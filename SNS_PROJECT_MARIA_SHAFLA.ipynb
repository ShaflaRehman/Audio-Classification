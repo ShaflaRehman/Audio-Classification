{
  "cells": [
    {
      "cell_type": "markdown",
      "metadata": {
        "id": "view-in-github",
        "colab_type": "text"
      },
      "source": [
        "<a href=\"https://colab.research.google.com/github/ShaflaRehman/Audio-Classification/blob/main/SNS_PROJECT_MARIA_SHAFLA.ipynb\" target=\"_parent\"><img src=\"https://colab.research.google.com/assets/colab-badge.svg\" alt=\"Open In Colab\"/></a>"
      ]
    },
    {
      "cell_type": "code",
      "execution_count": null,
      "metadata": {
        "id": "Gx1Ng2d7wI1d"
      },
      "outputs": [],
      "source": [
        "import librosa\n",
        "import librosa.display\n",
        "import os\n",
        "import pandas as pd\n",
        "import matplotlib.pyplot as plt\n",
        "import numpy as np\n",
        "import scipy.signal as signal\n",
        "from sklearn.preprocessing import StandardScaler\n",
        "from sklearn.model_selection import train_test_split\n",
        "from sklearn.metrics import accuracy_score, classification_report\n",
        "from sklearn.metrics import accuracy_score, classification_report, confusion_matrix\n",
        "from tensorflow.keras.models import Sequential\n",
        "from sklearn.preprocessing import LabelEncoder\n",
        "from tensorflow.keras.utils import to_categorical\n",
        "from tensorflow.keras.layers import Dense, Dropout, Activation, BatchNormalization\n",
        "from tensorflow.keras.optimizers import Adam\n",
        "from tensorflow.keras.callbacks import EarlyStopping"
      ]
    },
    {
      "cell_type": "code",
      "execution_count": null,
      "metadata": {
        "colab": {
          "base_uri": "https://localhost:8080/"
        },
        "id": "hhUMwli-xRxt",
        "outputId": "5a568cdc-4179-4357-b328-3c40b7d8ad63"
      },
      "outputs": [
        {
          "output_type": "stream",
          "name": "stdout",
          "text": [
            "Mounted at /content/drive\n"
          ]
        }
      ],
      "source": [
        "from google.colab import drive\n",
        "drive.mount('/content/drive')\n"
      ]
    },
    {
      "cell_type": "code",
      "execution_count": null,
      "metadata": {
        "colab": {
          "base_uri": "https://localhost:8080/"
        },
        "id": "eY5O24zzxUST",
        "outputId": "e3e31fa5-c55e-4494-d52e-007871382a0a"
      },
      "outputs": [
        {
          "output_type": "stream",
          "name": "stdout",
          "text": [
            "      slice_file_name    fsID  start        end  salience  fold  classID  \\\n",
            "0    100032-3-0-0.wav  100032    0.0   0.317551         1     5        3   \n",
            "1  100263-2-0-117.wav  100263   58.5  62.500000         1     5        2   \n",
            "2  100263-2-0-121.wav  100263   60.5  64.500000         1     5        2   \n",
            "3  100263-2-0-126.wav  100263   63.0  67.000000         1     5        2   \n",
            "4  100263-2-0-137.wav  100263   68.5  72.500000         1     5        2   \n",
            "\n",
            "              class  \n",
            "0          dog_bark  \n",
            "1  children_playing  \n",
            "2  children_playing  \n",
            "3  children_playing  \n",
            "4  children_playing  \n"
          ]
        }
      ],
      "source": [
        "data_path = '/content/drive/MyDrive/UrbanSound8K'  # Dataset location\n",
        "metadata_file = os.path.join(data_path, 'UrbanSound8K.csv')  # Metadata file path\n",
        "metadata = pd.read_csv(metadata_file)  # Load metadata\n",
        "print(metadata.head())  # View first 5 rows"
      ]
    },
    {
      "cell_type": "code",
      "source": [],
      "metadata": {
        "id": "R0Q0uoBSQDNg"
      },
      "execution_count": null,
      "outputs": []
    },
    {
      "cell_type": "code",
      "execution_count": null,
      "metadata": {
        "id": "ac3gmgSe4Mdd"
      },
      "outputs": [],
      "source": []
    },
    {
      "cell_type": "code",
      "execution_count": null,
      "metadata": {
        "id": "EAPPD89pjpwt"
      },
      "outputs": [],
      "source": [
        "# List to store features and labels\n",
        "features = []\n",
        "labels = []\n",
        "\n",
        "target_sampling_rate = 22050\n",
        "\n",
        "# Loop through each row in metadata\n",
        "for index, row in metadata.iterrows():\n",
        "    # File path for each audio clip\n",
        "    file_path = os.path.join(data_path, f\"fold{row['fold']}\", row['slice_file_name'])\n",
        "\n",
        "    # Load audio file and resample it to the target sampling rate\n",
        "    audio, sr = librosa.load(file_path, sr=target_sampling_rate)\n",
        "\n",
        "    # Normalize audio to avoid overflow\n",
        "    audio = librosa.util.normalize(audio)\n",
        "\n",
        "\n",
        "    # Extract features after filtering\n",
        "    rms = librosa.feature.rms(y=audio).mean()\n",
        "    zcr = librosa.feature.zero_crossing_rate(y=audio).mean()\n",
        "\n",
        "    # Adjust n_mels and fmax to avoid empty filters in MFCC extraction\n",
        "    mfccs = librosa.feature.mfcc(y=audio, sr=sr, n_mfcc=20, n_mels=40, fmax=sr/2)\n",
        "    mfccs_mean = np.mean(mfccs, axis=1)\n",
        "\n",
        "    # Combine all features\n",
        "    feature_set = np.hstack((rms, zcr, mfccs_mean))\n",
        "    features.append(feature_set)\n",
        "    labels.append(row['classID'])\n",
        "\n",
        "# Convert features and labels to numpy arrays\n",
        "X = np.array(features)\n",
        "y = np.array(labels)\n",
        "\n",
        "label_encoder = LabelEncoder()\n",
        "y_encoded = label_encoder.fit_transform(y)\n",
        "\n",
        "# One-hot encode the labels for multi-class classification\n",
        "y_one_hot = to_categorical(y_encoded, num_classes=len(np.unique(y_encoded)))\n",
        "\n",
        "# Save features and labels to .npy files for later use\n",
        "np.save('/content/drive/MyDrive/features2.npy', X)\n",
        "np.save('/content/drive/MyDrive/labels2.npy', y_one_hot)"
      ]
    },
    {
      "cell_type": "code",
      "execution_count": null,
      "metadata": {
        "id": "mdq7kGN61-G5"
      },
      "outputs": [],
      "source": [
        "import numpy as np\n",
        "from sklearn.model_selection import train_test_split\n",
        "\n",
        "\n",
        "features_file = os.path.join(data_path, 'Copy of features2.npy')  # Metadata file path\n",
        "labels_file = os.path.join(data_path, 'Copy of labels2.npy')  # Metadata file path\n",
        "features = np.load(features_file)  # Load the features from the file\n",
        "labels = np.load(labels_file)  # Load the labels from the file\n",
        "scaler = StandardScaler()\n",
        "features_scaled = scaler.fit_transform(features)  # Scale the features\n",
        "\n",
        "\n",
        "\n",
        "# Split the data into training and testing sets\n",
        "X_train, X_test, y_train, y_test = train_test_split(features, labels, test_size=0.2, random_state=42)"
      ]
    },
    {
      "cell_type": "code",
      "source": [],
      "metadata": {
        "id": "ZPayMU7coglC"
      },
      "execution_count": null,
      "outputs": []
    },
    {
      "cell_type": "code",
      "source": [
        "print(features[:5]);"
      ],
      "metadata": {
        "colab": {
          "base_uri": "https://localhost:8080/"
        },
        "id": "gFEMAQYxXCHk",
        "outputId": "efeec17b-78a4-4ce7-d1ad-3fd954a95c15"
      },
      "execution_count": null,
      "outputs": [
        {
          "output_type": "stream",
          "name": "stdout",
          "text": [
            "[[ 1.28257185e-01  1.23465402e-01 -1.08083336e+02  3.81803703e+01\n",
            "  -6.66305771e+01 -3.33314362e+01 -7.45419598e+00 -1.73957672e+01\n",
            "  -1.43968081e+00  4.12382030e+00  9.37879467e+00  5.74737167e+00\n",
            "  -6.35719359e-01 -1.68038294e-01 -5.00823879e+00  3.24709702e+00\n",
            "   1.07277894e+00 -3.07174754e+00 -6.10660028e+00 -7.00980842e-01\n",
            "   2.60732919e-01  3.12415123e+00]\n",
            " [ 1.47203460e-01  1.38779128e-01 -2.70097065e+01  5.37128448e+01\n",
            "  -2.51978416e+01  2.66568851e+01  5.73111486e+00  3.13863444e+00\n",
            "   6.23114347e+00 -1.03535689e-01  5.03176928e+00  4.85183090e-01\n",
            "  -5.83062828e-01  5.77230549e+00 -1.25508511e+00  3.21992898e+00\n",
            "   3.55765486e+00 -6.13100566e-02  2.05123210e+00  2.42107725e+00\n",
            "   1.02917798e-01  5.33008218e-01]\n",
            " [ 1.86498880e-01  1.02002800e-01 -1.93082333e+01  6.18432884e+01\n",
            "  -2.20985870e+01  2.23503819e+01  4.33034468e+00  7.73294258e+00\n",
            "   9.54495430e+00 -3.14111739e-01  5.00976086e+00  7.46816635e-01\n",
            "  -1.70679605e+00  3.05409193e+00  1.46409583e+00  2.86108637e+00\n",
            "   3.07125354e+00  9.66815233e-01 -7.78043985e-01 -9.19011891e-01\n",
            "   5.38680673e-01  3.32895088e+00]\n",
            " [ 1.43157393e-01  1.30760590e-01 -2.97318344e+01  5.11016998e+01\n",
            "  -1.46391687e+01  2.32581711e+01  5.40937090e+00  1.77162290e+00\n",
            "   6.33290529e+00 -2.53959656e+00  4.84637976e+00 -1.09396100e+00\n",
            "  -1.22901595e+00  6.55741167e+00  1.69518232e+00  4.38991737e+00\n",
            "   1.19386423e+00 -9.90712196e-02  2.89681077e+00  1.11194038e+00\n",
            "   2.50864863e+00  3.90019327e-01]\n",
            " [ 2.15700537e-01  1.18104791e-01 -8.23814487e+00  5.61858521e+01\n",
            "  -2.48880730e+01  2.64779339e+01  6.02553892e+00  7.94154739e+00\n",
            "   6.98845482e+00 -2.05819324e-01  7.20036888e+00 -6.20419942e-02\n",
            "  -3.20456576e+00  4.09781790e+00  1.15463078e+00  1.55209029e+00\n",
            "   4.48855019e+00  1.85413301e+00  8.81548375e-02 -8.52741778e-01\n",
            "  -1.44945014e+00  3.41194916e+00]]\n"
          ]
        }
      ]
    },
    {
      "cell_type": "code",
      "execution_count": null,
      "metadata": {
        "id": "2qEANklnojfY"
      },
      "outputs": [],
      "source": [
        "num_labels = 10"
      ]
    },
    {
      "cell_type": "code",
      "execution_count": null,
      "metadata": {
        "colab": {
          "base_uri": "https://localhost:8080/"
        },
        "id": "99TyiuikovZi",
        "outputId": "33a87b25-b5a0-4d00-a528-ce5885047046"
      },
      "outputs": [
        {
          "output_type": "stream",
          "name": "stderr",
          "text": [
            "/usr/local/lib/python3.10/dist-packages/keras/src/layers/core/dense.py:87: UserWarning: Do not pass an `input_shape`/`input_dim` argument to a layer. When using Sequential models, prefer using an `Input(shape)` object as the first layer in the model instead.\n",
            "  super().__init__(activity_regularizer=activity_regularizer, **kwargs)\n"
          ]
        },
        {
          "output_type": "stream",
          "name": "stdout",
          "text": [
            "Epoch 1/300\n",
            "\u001b[1m110/110\u001b[0m \u001b[32m━━━━━━━━━━━━━━━━━━━━\u001b[0m\u001b[37m\u001b[0m \u001b[1m4s\u001b[0m 8ms/step - accuracy: 0.2443 - loss: 2.4533 - val_accuracy: 0.4648 - val_loss: 1.5711\n",
            "Epoch 2/300\n",
            "\u001b[1m110/110\u001b[0m \u001b[32m━━━━━━━━━━━━━━━━━━━━\u001b[0m\u001b[37m\u001b[0m \u001b[1m1s\u001b[0m 5ms/step - accuracy: 0.4212 - loss: 1.7558 - val_accuracy: 0.5976 - val_loss: 1.2571\n",
            "Epoch 3/300\n",
            "\u001b[1m110/110\u001b[0m \u001b[32m━━━━━━━━━━━━━━━━━━━━\u001b[0m\u001b[37m\u001b[0m \u001b[1m1s\u001b[0m 6ms/step - accuracy: 0.4724 - loss: 1.5679 - val_accuracy: 0.6216 - val_loss: 1.1707\n",
            "Epoch 4/300\n",
            "\u001b[1m110/110\u001b[0m \u001b[32m━━━━━━━━━━━━━━━━━━━━\u001b[0m\u001b[37m\u001b[0m \u001b[1m1s\u001b[0m 6ms/step - accuracy: 0.5200 - loss: 1.4241 - val_accuracy: 0.6434 - val_loss: 1.1009\n",
            "Epoch 5/300\n",
            "\u001b[1m110/110\u001b[0m \u001b[32m━━━━━━━━━━━━━━━━━━━━\u001b[0m\u001b[37m\u001b[0m \u001b[1m1s\u001b[0m 10ms/step - accuracy: 0.5217 - loss: 1.4033 - val_accuracy: 0.6537 - val_loss: 1.0814\n",
            "Epoch 6/300\n",
            "\u001b[1m110/110\u001b[0m \u001b[32m━━━━━━━━━━━━━━━━━━━━\u001b[0m\u001b[37m\u001b[0m \u001b[1m1s\u001b[0m 6ms/step - accuracy: 0.5390 - loss: 1.3475 - val_accuracy: 0.6646 - val_loss: 1.0349\n",
            "Epoch 7/300\n",
            "\u001b[1m110/110\u001b[0m \u001b[32m━━━━━━━━━━━━━━━━━━━━\u001b[0m\u001b[37m\u001b[0m \u001b[1m2s\u001b[0m 9ms/step - accuracy: 0.5678 - loss: 1.2842 - val_accuracy: 0.6789 - val_loss: 0.9922\n",
            "Epoch 8/300\n",
            "\u001b[1m110/110\u001b[0m \u001b[32m━━━━━━━━━━━━━━━━━━━━\u001b[0m\u001b[37m\u001b[0m \u001b[1m1s\u001b[0m 10ms/step - accuracy: 0.5674 - loss: 1.2400 - val_accuracy: 0.6789 - val_loss: 0.9780\n",
            "Epoch 9/300\n",
            "\u001b[1m110/110\u001b[0m \u001b[32m━━━━━━━━━━━━━━━━━━━━\u001b[0m\u001b[37m\u001b[0m \u001b[1m1s\u001b[0m 10ms/step - accuracy: 0.5671 - loss: 1.2362 - val_accuracy: 0.6852 - val_loss: 0.9561\n",
            "Epoch 10/300\n",
            "\u001b[1m110/110\u001b[0m \u001b[32m━━━━━━━━━━━━━━━━━━━━\u001b[0m\u001b[37m\u001b[0m \u001b[1m1s\u001b[0m 10ms/step - accuracy: 0.6023 - loss: 1.1863 - val_accuracy: 0.6875 - val_loss: 0.9339\n",
            "Epoch 11/300\n",
            "\u001b[1m110/110\u001b[0m \u001b[32m━━━━━━━━━━━━━━━━━━━━\u001b[0m\u001b[37m\u001b[0m \u001b[1m1s\u001b[0m 7ms/step - accuracy: 0.6098 - loss: 1.1330 - val_accuracy: 0.7023 - val_loss: 0.9060\n",
            "Epoch 12/300\n",
            "\u001b[1m110/110\u001b[0m \u001b[32m━━━━━━━━━━━━━━━━━━━━\u001b[0m\u001b[37m\u001b[0m \u001b[1m1s\u001b[0m 6ms/step - accuracy: 0.6314 - loss: 1.0977 - val_accuracy: 0.7086 - val_loss: 0.8859\n",
            "Epoch 13/300\n",
            "\u001b[1m110/110\u001b[0m \u001b[32m━━━━━━━━━━━━━━━━━━━━\u001b[0m\u001b[37m\u001b[0m \u001b[1m1s\u001b[0m 6ms/step - accuracy: 0.6173 - loss: 1.1196 - val_accuracy: 0.7167 - val_loss: 0.8793\n",
            "Epoch 14/300\n",
            "\u001b[1m110/110\u001b[0m \u001b[32m━━━━━━━━━━━━━━━━━━━━\u001b[0m\u001b[37m\u001b[0m \u001b[1m1s\u001b[0m 5ms/step - accuracy: 0.6366 - loss: 1.0515 - val_accuracy: 0.7207 - val_loss: 0.8578\n",
            "Epoch 15/300\n",
            "\u001b[1m110/110\u001b[0m \u001b[32m━━━━━━━━━━━━━━━━━━━━\u001b[0m\u001b[37m\u001b[0m \u001b[1m1s\u001b[0m 5ms/step - accuracy: 0.6334 - loss: 1.0643 - val_accuracy: 0.7264 - val_loss: 0.8370\n",
            "Epoch 16/300\n",
            "\u001b[1m110/110\u001b[0m \u001b[32m━━━━━━━━━━━━━━━━━━━━\u001b[0m\u001b[37m\u001b[0m \u001b[1m1s\u001b[0m 5ms/step - accuracy: 0.6483 - loss: 1.0298 - val_accuracy: 0.7275 - val_loss: 0.8255\n",
            "Epoch 17/300\n",
            "\u001b[1m110/110\u001b[0m \u001b[32m━━━━━━━━━━━━━━━━━━━━\u001b[0m\u001b[37m\u001b[0m \u001b[1m1s\u001b[0m 5ms/step - accuracy: 0.6580 - loss: 1.0263 - val_accuracy: 0.7384 - val_loss: 0.7993\n",
            "Epoch 18/300\n",
            "\u001b[1m110/110\u001b[0m \u001b[32m━━━━━━━━━━━━━━━━━━━━\u001b[0m\u001b[37m\u001b[0m \u001b[1m1s\u001b[0m 5ms/step - accuracy: 0.6620 - loss: 0.9843 - val_accuracy: 0.7470 - val_loss: 0.7724\n",
            "Epoch 19/300\n",
            "\u001b[1m110/110\u001b[0m \u001b[32m━━━━━━━━━━━━━━━━━━━━\u001b[0m\u001b[37m\u001b[0m \u001b[1m1s\u001b[0m 6ms/step - accuracy: 0.6606 - loss: 0.9806 - val_accuracy: 0.7527 - val_loss: 0.7671\n",
            "Epoch 20/300\n",
            "\u001b[1m110/110\u001b[0m \u001b[32m━━━━━━━━━━━━━━━━━━━━\u001b[0m\u001b[37m\u001b[0m \u001b[1m1s\u001b[0m 6ms/step - accuracy: 0.6655 - loss: 0.9732 - val_accuracy: 0.7521 - val_loss: 0.7513\n",
            "Epoch 21/300\n",
            "\u001b[1m110/110\u001b[0m \u001b[32m━━━━━━━━━━━━━━━━━━━━\u001b[0m\u001b[37m\u001b[0m \u001b[1m1s\u001b[0m 6ms/step - accuracy: 0.6747 - loss: 0.9620 - val_accuracy: 0.7647 - val_loss: 0.7296\n",
            "Epoch 22/300\n",
            "\u001b[1m110/110\u001b[0m \u001b[32m━━━━━━━━━━━━━━━━━━━━\u001b[0m\u001b[37m\u001b[0m \u001b[1m1s\u001b[0m 6ms/step - accuracy: 0.6917 - loss: 0.9047 - val_accuracy: 0.7613 - val_loss: 0.7323\n",
            "Epoch 23/300\n",
            "\u001b[1m110/110\u001b[0m \u001b[32m━━━━━━━━━━━━━━━━━━━━\u001b[0m\u001b[37m\u001b[0m \u001b[1m1s\u001b[0m 5ms/step - accuracy: 0.6807 - loss: 0.9352 - val_accuracy: 0.7682 - val_loss: 0.7043\n",
            "Epoch 24/300\n",
            "\u001b[1m110/110\u001b[0m \u001b[32m━━━━━━━━━━━━━━━━━━━━\u001b[0m\u001b[37m\u001b[0m \u001b[1m1s\u001b[0m 6ms/step - accuracy: 0.6894 - loss: 0.9028 - val_accuracy: 0.7682 - val_loss: 0.6961\n",
            "Epoch 25/300\n",
            "\u001b[1m110/110\u001b[0m \u001b[32m━━━━━━━━━━━━━━━━━━━━\u001b[0m\u001b[37m\u001b[0m \u001b[1m2s\u001b[0m 10ms/step - accuracy: 0.6886 - loss: 0.8963 - val_accuracy: 0.7728 - val_loss: 0.6770\n",
            "Epoch 26/300\n",
            "\u001b[1m110/110\u001b[0m \u001b[32m━━━━━━━━━━━━━━━━━━━━\u001b[0m\u001b[37m\u001b[0m \u001b[1m1s\u001b[0m 9ms/step - accuracy: 0.6966 - loss: 0.8778 - val_accuracy: 0.7733 - val_loss: 0.6869\n",
            "Epoch 27/300\n",
            "\u001b[1m110/110\u001b[0m \u001b[32m━━━━━━━━━━━━━━━━━━━━\u001b[0m\u001b[37m\u001b[0m \u001b[1m1s\u001b[0m 10ms/step - accuracy: 0.7033 - loss: 0.8745 - val_accuracy: 0.7859 - val_loss: 0.6561\n",
            "Epoch 28/300\n",
            "\u001b[1m110/110\u001b[0m \u001b[32m━━━━━━━━━━━━━━━━━━━━\u001b[0m\u001b[37m\u001b[0m \u001b[1m1s\u001b[0m 6ms/step - accuracy: 0.7119 - loss: 0.8544 - val_accuracy: 0.7836 - val_loss: 0.6555\n",
            "Epoch 29/300\n",
            "\u001b[1m110/110\u001b[0m \u001b[32m━━━━━━━━━━━━━━━━━━━━\u001b[0m\u001b[37m\u001b[0m \u001b[1m1s\u001b[0m 5ms/step - accuracy: 0.7184 - loss: 0.8303 - val_accuracy: 0.7934 - val_loss: 0.6412\n",
            "Epoch 30/300\n",
            "\u001b[1m110/110\u001b[0m \u001b[32m━━━━━━━━━━━━━━━━━━━━\u001b[0m\u001b[37m\u001b[0m \u001b[1m1s\u001b[0m 6ms/step - accuracy: 0.7032 - loss: 0.8598 - val_accuracy: 0.7905 - val_loss: 0.6370\n",
            "Epoch 31/300\n",
            "\u001b[1m110/110\u001b[0m \u001b[32m━━━━━━━━━━━━━━━━━━━━\u001b[0m\u001b[37m\u001b[0m \u001b[1m1s\u001b[0m 5ms/step - accuracy: 0.7206 - loss: 0.8194 - val_accuracy: 0.7911 - val_loss: 0.6339\n",
            "Epoch 32/300\n",
            "\u001b[1m110/110\u001b[0m \u001b[32m━━━━━━━━━━━━━━━━━━━━\u001b[0m\u001b[37m\u001b[0m \u001b[1m1s\u001b[0m 6ms/step - accuracy: 0.7097 - loss: 0.8428 - val_accuracy: 0.7956 - val_loss: 0.6228\n",
            "Epoch 33/300\n",
            "\u001b[1m110/110\u001b[0m \u001b[32m━━━━━━━━━━━━━━━━━━━━\u001b[0m\u001b[37m\u001b[0m \u001b[1m1s\u001b[0m 5ms/step - accuracy: 0.7136 - loss: 0.8026 - val_accuracy: 0.7951 - val_loss: 0.6219\n",
            "Epoch 34/300\n",
            "\u001b[1m110/110\u001b[0m \u001b[32m━━━━━━━━━━━━━━━━━━━━\u001b[0m\u001b[37m\u001b[0m \u001b[1m1s\u001b[0m 5ms/step - accuracy: 0.7221 - loss: 0.8074 - val_accuracy: 0.8019 - val_loss: 0.6087\n",
            "Epoch 35/300\n",
            "\u001b[1m110/110\u001b[0m \u001b[32m━━━━━━━━━━━━━━━━━━━━\u001b[0m\u001b[37m\u001b[0m \u001b[1m1s\u001b[0m 5ms/step - accuracy: 0.7365 - loss: 0.7782 - val_accuracy: 0.8071 - val_loss: 0.5862\n",
            "Epoch 36/300\n",
            "\u001b[1m110/110\u001b[0m \u001b[32m━━━━━━━━━━━━━━━━━━━━\u001b[0m\u001b[37m\u001b[0m \u001b[1m1s\u001b[0m 5ms/step - accuracy: 0.7117 - loss: 0.8210 - val_accuracy: 0.8065 - val_loss: 0.5885\n",
            "Epoch 37/300\n",
            "\u001b[1m110/110\u001b[0m \u001b[32m━━━━━━━━━━━━━━━━━━━━\u001b[0m\u001b[37m\u001b[0m \u001b[1m1s\u001b[0m 6ms/step - accuracy: 0.7414 - loss: 0.7518 - val_accuracy: 0.8094 - val_loss: 0.5769\n",
            "Epoch 38/300\n",
            "\u001b[1m110/110\u001b[0m \u001b[32m━━━━━━━━━━━━━━━━━━━━\u001b[0m\u001b[37m\u001b[0m \u001b[1m1s\u001b[0m 6ms/step - accuracy: 0.7332 - loss: 0.7637 - val_accuracy: 0.8094 - val_loss: 0.5739\n",
            "Epoch 39/300\n",
            "\u001b[1m110/110\u001b[0m \u001b[32m━━━━━━━━━━━━━━━━━━━━\u001b[0m\u001b[37m\u001b[0m \u001b[1m1s\u001b[0m 5ms/step - accuracy: 0.7364 - loss: 0.7624 - val_accuracy: 0.8140 - val_loss: 0.5804\n",
            "Epoch 40/300\n",
            "\u001b[1m110/110\u001b[0m \u001b[32m━━━━━━━━━━━━━━━━━━━━\u001b[0m\u001b[37m\u001b[0m \u001b[1m2s\u001b[0m 10ms/step - accuracy: 0.7567 - loss: 0.7465 - val_accuracy: 0.8203 - val_loss: 0.5614\n",
            "Epoch 41/300\n",
            "\u001b[1m110/110\u001b[0m \u001b[32m━━━━━━━━━━━━━━━━━━━━\u001b[0m\u001b[37m\u001b[0m \u001b[1m1s\u001b[0m 11ms/step - accuracy: 0.7448 - loss: 0.7523 - val_accuracy: 0.8197 - val_loss: 0.5643\n",
            "Epoch 42/300\n",
            "\u001b[1m110/110\u001b[0m \u001b[32m━━━━━━━━━━━━━━━━━━━━\u001b[0m\u001b[37m\u001b[0m \u001b[1m1s\u001b[0m 11ms/step - accuracy: 0.7440 - loss: 0.7590 - val_accuracy: 0.8243 - val_loss: 0.5484\n",
            "Epoch 43/300\n",
            "\u001b[1m110/110\u001b[0m \u001b[32m━━━━━━━━━━━━━━━━━━━━\u001b[0m\u001b[37m\u001b[0m \u001b[1m1s\u001b[0m 6ms/step - accuracy: 0.7567 - loss: 0.7200 - val_accuracy: 0.8185 - val_loss: 0.5550\n",
            "Epoch 44/300\n",
            "\u001b[1m110/110\u001b[0m \u001b[32m━━━━━━━━━━━━━━━━━━━━\u001b[0m\u001b[37m\u001b[0m \u001b[1m1s\u001b[0m 5ms/step - accuracy: 0.7532 - loss: 0.7415 - val_accuracy: 0.8180 - val_loss: 0.5471\n",
            "Epoch 45/300\n",
            "\u001b[1m110/110\u001b[0m \u001b[32m━━━━━━━━━━━━━━━━━━━━\u001b[0m\u001b[37m\u001b[0m \u001b[1m1s\u001b[0m 5ms/step - accuracy: 0.7465 - loss: 0.7219 - val_accuracy: 0.8231 - val_loss: 0.5368\n",
            "Epoch 46/300\n",
            "\u001b[1m110/110\u001b[0m \u001b[32m━━━━━━━━━━━━━━━━━━━━\u001b[0m\u001b[37m\u001b[0m \u001b[1m1s\u001b[0m 5ms/step - accuracy: 0.7557 - loss: 0.7071 - val_accuracy: 0.8294 - val_loss: 0.5405\n",
            "Epoch 47/300\n",
            "\u001b[1m110/110\u001b[0m \u001b[32m━━━━━━━━━━━━━━━━━━━━\u001b[0m\u001b[37m\u001b[0m \u001b[1m1s\u001b[0m 5ms/step - accuracy: 0.7557 - loss: 0.6792 - val_accuracy: 0.8300 - val_loss: 0.5288\n",
            "Epoch 48/300\n",
            "\u001b[1m110/110\u001b[0m \u001b[32m━━━━━━━━━━━━━━━━━━━━\u001b[0m\u001b[37m\u001b[0m \u001b[1m1s\u001b[0m 5ms/step - accuracy: 0.7572 - loss: 0.6973 - val_accuracy: 0.8277 - val_loss: 0.5265\n",
            "Epoch 49/300\n",
            "\u001b[1m110/110\u001b[0m \u001b[32m━━━━━━━━━━━━━━━━━━━━\u001b[0m\u001b[37m\u001b[0m \u001b[1m1s\u001b[0m 6ms/step - accuracy: 0.7615 - loss: 0.6846 - val_accuracy: 0.8323 - val_loss: 0.5170\n",
            "Epoch 50/300\n",
            "\u001b[1m110/110\u001b[0m \u001b[32m━━━━━━━━━━━━━━━━━━━━\u001b[0m\u001b[37m\u001b[0m \u001b[1m1s\u001b[0m 6ms/step - accuracy: 0.7614 - loss: 0.7070 - val_accuracy: 0.8311 - val_loss: 0.5179\n",
            "Epoch 51/300\n",
            "\u001b[1m110/110\u001b[0m \u001b[32m━━━━━━━━━━━━━━━━━━━━\u001b[0m\u001b[37m\u001b[0m \u001b[1m1s\u001b[0m 5ms/step - accuracy: 0.7658 - loss: 0.6680 - val_accuracy: 0.8317 - val_loss: 0.5235\n",
            "Epoch 52/300\n",
            "\u001b[1m110/110\u001b[0m \u001b[32m━━━━━━━━━━━━━━━━━━━━\u001b[0m\u001b[37m\u001b[0m \u001b[1m1s\u001b[0m 6ms/step - accuracy: 0.7705 - loss: 0.6799 - val_accuracy: 0.8369 - val_loss: 0.5113\n",
            "Epoch 53/300\n",
            "\u001b[1m110/110\u001b[0m \u001b[32m━━━━━━━━━━━━━━━━━━━━\u001b[0m\u001b[37m\u001b[0m \u001b[1m1s\u001b[0m 7ms/step - accuracy: 0.7757 - loss: 0.6585 - val_accuracy: 0.8311 - val_loss: 0.5085\n",
            "Epoch 54/300\n",
            "\u001b[1m110/110\u001b[0m \u001b[32m━━━━━━━━━━━━━━━━━━━━\u001b[0m\u001b[37m\u001b[0m \u001b[1m1s\u001b[0m 5ms/step - accuracy: 0.7739 - loss: 0.6500 - val_accuracy: 0.8386 - val_loss: 0.5032\n",
            "Epoch 55/300\n",
            "\u001b[1m110/110\u001b[0m \u001b[32m━━━━━━━━━━━━━━━━━━━━\u001b[0m\u001b[37m\u001b[0m \u001b[1m1s\u001b[0m 9ms/step - accuracy: 0.7685 - loss: 0.6586 - val_accuracy: 0.8323 - val_loss: 0.5130\n",
            "Epoch 56/300\n",
            "\u001b[1m110/110\u001b[0m \u001b[32m━━━━━━━━━━━━━━━━━━━━\u001b[0m\u001b[37m\u001b[0m \u001b[1m1s\u001b[0m 9ms/step - accuracy: 0.7754 - loss: 0.6496 - val_accuracy: 0.8351 - val_loss: 0.5076\n",
            "Epoch 57/300\n",
            "\u001b[1m110/110\u001b[0m \u001b[32m━━━━━━━━━━━━━━━━━━━━\u001b[0m\u001b[37m\u001b[0m \u001b[1m1s\u001b[0m 10ms/step - accuracy: 0.7706 - loss: 0.6566 - val_accuracy: 0.8403 - val_loss: 0.4999\n",
            "Epoch 58/300\n",
            "\u001b[1m110/110\u001b[0m \u001b[32m━━━━━━━━━━━━━━━━━━━━\u001b[0m\u001b[37m\u001b[0m \u001b[1m1s\u001b[0m 9ms/step - accuracy: 0.7687 - loss: 0.6551 - val_accuracy: 0.8397 - val_loss: 0.4936\n",
            "Epoch 59/300\n",
            "\u001b[1m110/110\u001b[0m \u001b[32m━━━━━━━━━━━━━━━━━━━━\u001b[0m\u001b[37m\u001b[0m \u001b[1m1s\u001b[0m 11ms/step - accuracy: 0.7754 - loss: 0.6420 - val_accuracy: 0.8432 - val_loss: 0.4833\n",
            "Epoch 60/300\n",
            "\u001b[1m110/110\u001b[0m \u001b[32m━━━━━━━━━━━━━━━━━━━━\u001b[0m\u001b[37m\u001b[0m \u001b[1m1s\u001b[0m 7ms/step - accuracy: 0.7893 - loss: 0.6331 - val_accuracy: 0.8420 - val_loss: 0.4913\n",
            "Epoch 61/300\n",
            "\u001b[1m110/110\u001b[0m \u001b[32m━━━━━━━━━━━━━━━━━━━━\u001b[0m\u001b[37m\u001b[0m \u001b[1m1s\u001b[0m 5ms/step - accuracy: 0.7893 - loss: 0.5969 - val_accuracy: 0.8506 - val_loss: 0.4786\n",
            "Epoch 62/300\n",
            "\u001b[1m110/110\u001b[0m \u001b[32m━━━━━━━━━━━━━━━━━━━━\u001b[0m\u001b[37m\u001b[0m \u001b[1m1s\u001b[0m 6ms/step - accuracy: 0.7763 - loss: 0.6373 - val_accuracy: 0.8489 - val_loss: 0.4736\n",
            "Epoch 63/300\n",
            "\u001b[1m110/110\u001b[0m \u001b[32m━━━━━━━━━━━━━━━━━━━━\u001b[0m\u001b[37m\u001b[0m \u001b[1m1s\u001b[0m 5ms/step - accuracy: 0.7825 - loss: 0.6250 - val_accuracy: 0.8506 - val_loss: 0.4708\n",
            "Epoch 64/300\n",
            "\u001b[1m110/110\u001b[0m \u001b[32m━━━━━━━━━━━━━━━━━━━━\u001b[0m\u001b[37m\u001b[0m \u001b[1m1s\u001b[0m 6ms/step - accuracy: 0.7925 - loss: 0.6113 - val_accuracy: 0.8500 - val_loss: 0.4678\n",
            "Epoch 65/300\n",
            "\u001b[1m110/110\u001b[0m \u001b[32m━━━━━━━━━━━━━━━━━━━━\u001b[0m\u001b[37m\u001b[0m \u001b[1m1s\u001b[0m 5ms/step - accuracy: 0.7870 - loss: 0.6245 - val_accuracy: 0.8495 - val_loss: 0.4687\n",
            "Epoch 66/300\n",
            "\u001b[1m110/110\u001b[0m \u001b[32m━━━━━━━━━━━━━━━━━━━━\u001b[0m\u001b[37m\u001b[0m \u001b[1m1s\u001b[0m 5ms/step - accuracy: 0.7870 - loss: 0.6245 - val_accuracy: 0.8454 - val_loss: 0.4641\n",
            "Epoch 67/300\n",
            "\u001b[1m110/110\u001b[0m \u001b[32m━━━━━━━━━━━━━━━━━━━━\u001b[0m\u001b[37m\u001b[0m \u001b[1m1s\u001b[0m 5ms/step - accuracy: 0.7982 - loss: 0.6062 - val_accuracy: 0.8500 - val_loss: 0.4586\n",
            "Epoch 68/300\n",
            "\u001b[1m110/110\u001b[0m \u001b[32m━━━━━━━━━━━━━━━━━━━━\u001b[0m\u001b[37m\u001b[0m \u001b[1m1s\u001b[0m 5ms/step - accuracy: 0.7858 - loss: 0.6147 - val_accuracy: 0.8477 - val_loss: 0.4638\n",
            "Epoch 69/300\n",
            "\u001b[1m110/110\u001b[0m \u001b[32m━━━━━━━━━━━━━━━━━━━━\u001b[0m\u001b[37m\u001b[0m \u001b[1m1s\u001b[0m 6ms/step - accuracy: 0.7837 - loss: 0.6154 - val_accuracy: 0.8529 - val_loss: 0.4580\n",
            "Epoch 70/300\n",
            "\u001b[1m110/110\u001b[0m \u001b[32m━━━━━━━━━━━━━━━━━━━━\u001b[0m\u001b[37m\u001b[0m \u001b[1m1s\u001b[0m 5ms/step - accuracy: 0.8001 - loss: 0.5905 - val_accuracy: 0.8546 - val_loss: 0.4519\n",
            "Epoch 71/300\n",
            "\u001b[1m110/110\u001b[0m \u001b[32m━━━━━━━━━━━━━━━━━━━━\u001b[0m\u001b[37m\u001b[0m \u001b[1m1s\u001b[0m 6ms/step - accuracy: 0.7995 - loss: 0.5839 - val_accuracy: 0.8535 - val_loss: 0.4558\n",
            "Epoch 72/300\n",
            "\u001b[1m110/110\u001b[0m \u001b[32m━━━━━━━━━━━━━━━━━━━━\u001b[0m\u001b[37m\u001b[0m \u001b[1m1s\u001b[0m 5ms/step - accuracy: 0.7934 - loss: 0.5918 - val_accuracy: 0.8489 - val_loss: 0.4556\n",
            "Epoch 73/300\n",
            "\u001b[1m110/110\u001b[0m \u001b[32m━━━━━━━━━━━━━━━━━━━━\u001b[0m\u001b[37m\u001b[0m \u001b[1m1s\u001b[0m 6ms/step - accuracy: 0.7884 - loss: 0.6027 - val_accuracy: 0.8483 - val_loss: 0.4494\n",
            "Epoch 74/300\n",
            "\u001b[1m110/110\u001b[0m \u001b[32m━━━━━━━━━━━━━━━━━━━━\u001b[0m\u001b[37m\u001b[0m \u001b[1m2s\u001b[0m 10ms/step - accuracy: 0.7911 - loss: 0.6024 - val_accuracy: 0.8580 - val_loss: 0.4460\n",
            "Epoch 75/300\n",
            "\u001b[1m110/110\u001b[0m \u001b[32m━━━━━━━━━━━━━━━━━━━━\u001b[0m\u001b[37m\u001b[0m \u001b[1m1s\u001b[0m 10ms/step - accuracy: 0.8017 - loss: 0.5827 - val_accuracy: 0.8620 - val_loss: 0.4391\n",
            "Epoch 76/300\n",
            "\u001b[1m110/110\u001b[0m \u001b[32m━━━━━━━━━━━━━━━━━━━━\u001b[0m\u001b[37m\u001b[0m \u001b[1m1s\u001b[0m 9ms/step - accuracy: 0.7987 - loss: 0.5903 - val_accuracy: 0.8569 - val_loss: 0.4382\n",
            "Epoch 77/300\n",
            "\u001b[1m110/110\u001b[0m \u001b[32m━━━━━━━━━━━━━━━━━━━━\u001b[0m\u001b[37m\u001b[0m \u001b[1m1s\u001b[0m 5ms/step - accuracy: 0.8007 - loss: 0.5809 - val_accuracy: 0.8598 - val_loss: 0.4389\n",
            "Epoch 78/300\n",
            "\u001b[1m110/110\u001b[0m \u001b[32m━━━━━━━━━━━━━━━━━━━━\u001b[0m\u001b[37m\u001b[0m \u001b[1m1s\u001b[0m 5ms/step - accuracy: 0.7989 - loss: 0.5741 - val_accuracy: 0.8620 - val_loss: 0.4372\n",
            "Epoch 79/300\n",
            "\u001b[1m110/110\u001b[0m \u001b[32m━━━━━━━━━━━━━━━━━━━━\u001b[0m\u001b[37m\u001b[0m \u001b[1m1s\u001b[0m 6ms/step - accuracy: 0.7864 - loss: 0.6060 - val_accuracy: 0.8609 - val_loss: 0.4384\n",
            "Epoch 80/300\n",
            "\u001b[1m110/110\u001b[0m \u001b[32m━━━━━━━━━━━━━━━━━━━━\u001b[0m\u001b[37m\u001b[0m \u001b[1m1s\u001b[0m 5ms/step - accuracy: 0.8045 - loss: 0.5541 - val_accuracy: 0.8592 - val_loss: 0.4483\n",
            "Epoch 81/300\n",
            "\u001b[1m110/110\u001b[0m \u001b[32m━━━━━━━━━━━━━━━━━━━━\u001b[0m\u001b[37m\u001b[0m \u001b[1m1s\u001b[0m 6ms/step - accuracy: 0.8078 - loss: 0.5524 - val_accuracy: 0.8655 - val_loss: 0.4329\n",
            "Epoch 82/300\n",
            "\u001b[1m110/110\u001b[0m \u001b[32m━━━━━━━━━━━━━━━━━━━━\u001b[0m\u001b[37m\u001b[0m \u001b[1m1s\u001b[0m 5ms/step - accuracy: 0.7912 - loss: 0.5880 - val_accuracy: 0.8569 - val_loss: 0.4362\n",
            "Epoch 83/300\n",
            "\u001b[1m110/110\u001b[0m \u001b[32m━━━━━━━━━━━━━━━━━━━━\u001b[0m\u001b[37m\u001b[0m \u001b[1m1s\u001b[0m 5ms/step - accuracy: 0.8089 - loss: 0.5457 - val_accuracy: 0.8695 - val_loss: 0.4350\n",
            "Epoch 84/300\n",
            "\u001b[1m110/110\u001b[0m \u001b[32m━━━━━━━━━━━━━━━━━━━━\u001b[0m\u001b[37m\u001b[0m \u001b[1m1s\u001b[0m 5ms/step - accuracy: 0.8011 - loss: 0.5704 - val_accuracy: 0.8649 - val_loss: 0.4353\n",
            "Epoch 85/300\n",
            "\u001b[1m110/110\u001b[0m \u001b[32m━━━━━━━━━━━━━━━━━━━━\u001b[0m\u001b[37m\u001b[0m \u001b[1m1s\u001b[0m 5ms/step - accuracy: 0.8115 - loss: 0.5479 - val_accuracy: 0.8603 - val_loss: 0.4287\n",
            "Epoch 86/300\n",
            "\u001b[1m110/110\u001b[0m \u001b[32m━━━━━━━━━━━━━━━━━━━━\u001b[0m\u001b[37m\u001b[0m \u001b[1m1s\u001b[0m 5ms/step - accuracy: 0.8039 - loss: 0.5604 - val_accuracy: 0.8655 - val_loss: 0.4254\n",
            "Epoch 87/300\n",
            "\u001b[1m110/110\u001b[0m \u001b[32m━━━━━━━━━━━━━━━━━━━━\u001b[0m\u001b[37m\u001b[0m \u001b[1m1s\u001b[0m 5ms/step - accuracy: 0.8184 - loss: 0.5258 - val_accuracy: 0.8661 - val_loss: 0.4244\n",
            "Epoch 88/300\n",
            "\u001b[1m110/110\u001b[0m \u001b[32m━━━━━━━━━━━━━━━━━━━━\u001b[0m\u001b[37m\u001b[0m \u001b[1m1s\u001b[0m 5ms/step - accuracy: 0.8073 - loss: 0.5433 - val_accuracy: 0.8689 - val_loss: 0.4214\n",
            "Epoch 89/300\n",
            "\u001b[1m110/110\u001b[0m \u001b[32m━━━━━━━━━━━━━━━━━━━━\u001b[0m\u001b[37m\u001b[0m \u001b[1m1s\u001b[0m 10ms/step - accuracy: 0.8143 - loss: 0.5419 - val_accuracy: 0.8683 - val_loss: 0.4137\n",
            "Epoch 90/300\n",
            "\u001b[1m110/110\u001b[0m \u001b[32m━━━━━━━━━━━━━━━━━━━━\u001b[0m\u001b[37m\u001b[0m \u001b[1m1s\u001b[0m 10ms/step - accuracy: 0.8048 - loss: 0.5493 - val_accuracy: 0.8706 - val_loss: 0.4105\n",
            "Epoch 91/300\n",
            "\u001b[1m110/110\u001b[0m \u001b[32m━━━━━━━━━━━━━━━━━━━━\u001b[0m\u001b[37m\u001b[0m \u001b[1m1s\u001b[0m 9ms/step - accuracy: 0.8161 - loss: 0.5207 - val_accuracy: 0.8683 - val_loss: 0.4189\n",
            "Epoch 92/300\n",
            "\u001b[1m110/110\u001b[0m \u001b[32m━━━━━━━━━━━━━━━━━━━━\u001b[0m\u001b[37m\u001b[0m \u001b[1m1s\u001b[0m 10ms/step - accuracy: 0.8048 - loss: 0.5593 - val_accuracy: 0.8661 - val_loss: 0.4146\n",
            "Epoch 93/300\n",
            "\u001b[1m110/110\u001b[0m \u001b[32m━━━━━━━━━━━━━━━━━━━━\u001b[0m\u001b[37m\u001b[0m \u001b[1m1s\u001b[0m 7ms/step - accuracy: 0.8153 - loss: 0.5274 - val_accuracy: 0.8615 - val_loss: 0.4239\n",
            "Epoch 94/300\n",
            "\u001b[1m110/110\u001b[0m \u001b[32m━━━━━━━━━━━━━━━━━━━━\u001b[0m\u001b[37m\u001b[0m \u001b[1m1s\u001b[0m 5ms/step - accuracy: 0.8117 - loss: 0.5488 - val_accuracy: 0.8672 - val_loss: 0.4179\n",
            "Epoch 95/300\n",
            "\u001b[1m110/110\u001b[0m \u001b[32m━━━━━━━━━━━━━━━━━━━━\u001b[0m\u001b[37m\u001b[0m \u001b[1m1s\u001b[0m 5ms/step - accuracy: 0.8056 - loss: 0.5566 - val_accuracy: 0.8729 - val_loss: 0.4161\n",
            "Epoch 96/300\n",
            "\u001b[1m110/110\u001b[0m \u001b[32m━━━━━━━━━━━━━━━━━━━━\u001b[0m\u001b[37m\u001b[0m \u001b[1m1s\u001b[0m 5ms/step - accuracy: 0.8183 - loss: 0.5311 - val_accuracy: 0.8724 - val_loss: 0.4141\n",
            "Epoch 97/300\n",
            "\u001b[1m110/110\u001b[0m \u001b[32m━━━━━━━━━━━━━━━━━━━━\u001b[0m\u001b[37m\u001b[0m \u001b[1m1s\u001b[0m 5ms/step - accuracy: 0.8042 - loss: 0.5420 - val_accuracy: 0.8649 - val_loss: 0.4157\n",
            "Epoch 98/300\n",
            "\u001b[1m110/110\u001b[0m \u001b[32m━━━━━━━━━━━━━━━━━━━━\u001b[0m\u001b[37m\u001b[0m \u001b[1m1s\u001b[0m 5ms/step - accuracy: 0.8041 - loss: 0.5438 - val_accuracy: 0.8718 - val_loss: 0.4106\n",
            "Epoch 99/300\n",
            "\u001b[1m110/110\u001b[0m \u001b[32m━━━━━━━━━━━━━━━━━━━━\u001b[0m\u001b[37m\u001b[0m \u001b[1m1s\u001b[0m 6ms/step - accuracy: 0.8069 - loss: 0.5573 - val_accuracy: 0.8701 - val_loss: 0.4150\n",
            "Epoch 100/300\n",
            "\u001b[1m110/110\u001b[0m \u001b[32m━━━━━━━━━━━━━━━━━━━━\u001b[0m\u001b[37m\u001b[0m \u001b[1m1s\u001b[0m 6ms/step - accuracy: 0.8228 - loss: 0.5054 - val_accuracy: 0.8689 - val_loss: 0.4081\n",
            "Epoch 101/300\n",
            "\u001b[1m110/110\u001b[0m \u001b[32m━━━━━━━━━━━━━━━━━━━━\u001b[0m\u001b[37m\u001b[0m \u001b[1m1s\u001b[0m 5ms/step - accuracy: 0.8191 - loss: 0.5126 - val_accuracy: 0.8695 - val_loss: 0.4068\n",
            "Epoch 102/300\n",
            "\u001b[1m110/110\u001b[0m \u001b[32m━━━━━━━━━━━━━━━━━━━━\u001b[0m\u001b[37m\u001b[0m \u001b[1m1s\u001b[0m 5ms/step - accuracy: 0.8168 - loss: 0.5292 - val_accuracy: 0.8695 - val_loss: 0.4101\n",
            "Epoch 103/300\n",
            "\u001b[1m110/110\u001b[0m \u001b[32m━━━━━━━━━━━━━━━━━━━━\u001b[0m\u001b[37m\u001b[0m \u001b[1m1s\u001b[0m 6ms/step - accuracy: 0.8115 - loss: 0.5404 - val_accuracy: 0.8712 - val_loss: 0.4042\n",
            "Epoch 104/300\n",
            "\u001b[1m110/110\u001b[0m \u001b[32m━━━━━━━━━━━━━━━━━━━━\u001b[0m\u001b[37m\u001b[0m \u001b[1m1s\u001b[0m 5ms/step - accuracy: 0.8182 - loss: 0.5295 - val_accuracy: 0.8712 - val_loss: 0.4027\n",
            "Epoch 105/300\n",
            "\u001b[1m110/110\u001b[0m \u001b[32m━━━━━━━━━━━━━━━━━━━━\u001b[0m\u001b[37m\u001b[0m \u001b[1m1s\u001b[0m 5ms/step - accuracy: 0.8170 - loss: 0.5146 - val_accuracy: 0.8746 - val_loss: 0.4060\n",
            "Epoch 106/300\n",
            "\u001b[1m110/110\u001b[0m \u001b[32m━━━━━━━━━━━━━━━━━━━━\u001b[0m\u001b[37m\u001b[0m \u001b[1m1s\u001b[0m 8ms/step - accuracy: 0.8162 - loss: 0.5284 - val_accuracy: 0.8695 - val_loss: 0.4039\n",
            "Epoch 107/300\n",
            "\u001b[1m110/110\u001b[0m \u001b[32m━━━━━━━━━━━━━━━━━━━━\u001b[0m\u001b[37m\u001b[0m \u001b[1m2s\u001b[0m 10ms/step - accuracy: 0.8350 - loss: 0.4953 - val_accuracy: 0.8741 - val_loss: 0.3956\n",
            "Epoch 108/300\n",
            "\u001b[1m110/110\u001b[0m \u001b[32m━━━━━━━━━━━━━━━━━━━━\u001b[0m\u001b[37m\u001b[0m \u001b[1m1s\u001b[0m 11ms/step - accuracy: 0.8170 - loss: 0.5201 - val_accuracy: 0.8735 - val_loss: 0.3934\n",
            "Epoch 109/300\n",
            "\u001b[1m110/110\u001b[0m \u001b[32m━━━━━━━━━━━━━━━━━━━━\u001b[0m\u001b[37m\u001b[0m \u001b[1m1s\u001b[0m 11ms/step - accuracy: 0.8163 - loss: 0.5254 - val_accuracy: 0.8792 - val_loss: 0.3956\n",
            "Epoch 110/300\n",
            "\u001b[1m110/110\u001b[0m \u001b[32m━━━━━━━━━━━━━━━━━━━━\u001b[0m\u001b[37m\u001b[0m \u001b[1m1s\u001b[0m 7ms/step - accuracy: 0.8160 - loss: 0.5349 - val_accuracy: 0.8746 - val_loss: 0.4013\n",
            "Epoch 111/300\n",
            "\u001b[1m110/110\u001b[0m \u001b[32m━━━━━━━━━━━━━━━━━━━━\u001b[0m\u001b[37m\u001b[0m \u001b[1m1s\u001b[0m 6ms/step - accuracy: 0.8185 - loss: 0.5158 - val_accuracy: 0.8786 - val_loss: 0.3975\n",
            "Epoch 112/300\n",
            "\u001b[1m110/110\u001b[0m \u001b[32m━━━━━━━━━━━━━━━━━━━━\u001b[0m\u001b[37m\u001b[0m \u001b[1m1s\u001b[0m 5ms/step - accuracy: 0.8228 - loss: 0.5135 - val_accuracy: 0.8804 - val_loss: 0.3875\n",
            "Epoch 113/300\n",
            "\u001b[1m110/110\u001b[0m \u001b[32m━━━━━━━━━━━━━━━━━━━━\u001b[0m\u001b[37m\u001b[0m \u001b[1m1s\u001b[0m 5ms/step - accuracy: 0.8256 - loss: 0.4854 - val_accuracy: 0.8769 - val_loss: 0.3914\n",
            "Epoch 114/300\n",
            "\u001b[1m110/110\u001b[0m \u001b[32m━━━━━━━━━━━━━━━━━━━━\u001b[0m\u001b[37m\u001b[0m \u001b[1m1s\u001b[0m 5ms/step - accuracy: 0.8261 - loss: 0.4913 - val_accuracy: 0.8741 - val_loss: 0.3932\n",
            "Epoch 115/300\n",
            "\u001b[1m110/110\u001b[0m \u001b[32m━━━━━━━━━━━━━━━━━━━━\u001b[0m\u001b[37m\u001b[0m \u001b[1m1s\u001b[0m 6ms/step - accuracy: 0.8199 - loss: 0.5074 - val_accuracy: 0.8758 - val_loss: 0.3914\n",
            "Epoch 116/300\n",
            "\u001b[1m110/110\u001b[0m \u001b[32m━━━━━━━━━━━━━━━━━━━━\u001b[0m\u001b[37m\u001b[0m \u001b[1m1s\u001b[0m 5ms/step - accuracy: 0.8231 - loss: 0.4932 - val_accuracy: 0.8741 - val_loss: 0.3917\n",
            "Epoch 117/300\n",
            "\u001b[1m110/110\u001b[0m \u001b[32m━━━━━━━━━━━━━━━━━━━━\u001b[0m\u001b[37m\u001b[0m \u001b[1m1s\u001b[0m 6ms/step - accuracy: 0.8272 - loss: 0.4840 - val_accuracy: 0.8786 - val_loss: 0.3841\n",
            "Epoch 118/300\n",
            "\u001b[1m110/110\u001b[0m \u001b[32m━━━━━━━━━━━━━━━━━━━━\u001b[0m\u001b[37m\u001b[0m \u001b[1m1s\u001b[0m 6ms/step - accuracy: 0.8236 - loss: 0.4897 - val_accuracy: 0.8786 - val_loss: 0.3873\n",
            "Epoch 119/300\n",
            "\u001b[1m110/110\u001b[0m \u001b[32m━━━━━━━━━━━━━━━━━━━━\u001b[0m\u001b[37m\u001b[0m \u001b[1m1s\u001b[0m 6ms/step - accuracy: 0.8280 - loss: 0.4980 - val_accuracy: 0.8746 - val_loss: 0.3854\n",
            "Epoch 120/300\n",
            "\u001b[1m110/110\u001b[0m \u001b[32m━━━━━━━━━━━━━━━━━━━━\u001b[0m\u001b[37m\u001b[0m \u001b[1m1s\u001b[0m 7ms/step - accuracy: 0.8324 - loss: 0.4760 - val_accuracy: 0.8809 - val_loss: 0.3793\n",
            "Epoch 121/300\n",
            "\u001b[1m110/110\u001b[0m \u001b[32m━━━━━━━━━━━━━━━━━━━━\u001b[0m\u001b[37m\u001b[0m \u001b[1m1s\u001b[0m 6ms/step - accuracy: 0.8256 - loss: 0.4808 - val_accuracy: 0.8798 - val_loss: 0.3784\n",
            "Epoch 122/300\n",
            "\u001b[1m110/110\u001b[0m \u001b[32m━━━━━━━━━━━━━━━━━━━━\u001b[0m\u001b[37m\u001b[0m \u001b[1m1s\u001b[0m 10ms/step - accuracy: 0.8270 - loss: 0.5057 - val_accuracy: 0.8786 - val_loss: 0.3807\n",
            "Epoch 123/300\n",
            "\u001b[1m110/110\u001b[0m \u001b[32m━━━━━━━━━━━━━━━━━━━━\u001b[0m\u001b[37m\u001b[0m \u001b[1m1s\u001b[0m 10ms/step - accuracy: 0.8315 - loss: 0.4787 - val_accuracy: 0.8827 - val_loss: 0.3742\n",
            "Epoch 124/300\n",
            "\u001b[1m110/110\u001b[0m \u001b[32m━━━━━━━━━━━━━━━━━━━━\u001b[0m\u001b[37m\u001b[0m \u001b[1m1s\u001b[0m 10ms/step - accuracy: 0.8296 - loss: 0.4825 - val_accuracy: 0.8792 - val_loss: 0.3738\n",
            "Epoch 125/300\n",
            "\u001b[1m110/110\u001b[0m \u001b[32m━━━━━━━━━━━━━━━━━━━━\u001b[0m\u001b[37m\u001b[0m \u001b[1m1s\u001b[0m 11ms/step - accuracy: 0.8268 - loss: 0.4820 - val_accuracy: 0.8746 - val_loss: 0.3810\n",
            "Epoch 126/300\n",
            "\u001b[1m110/110\u001b[0m \u001b[32m━━━━━━━━━━━━━━━━━━━━\u001b[0m\u001b[37m\u001b[0m \u001b[1m1s\u001b[0m 7ms/step - accuracy: 0.8259 - loss: 0.4909 - val_accuracy: 0.8786 - val_loss: 0.3752\n",
            "Epoch 127/300\n",
            "\u001b[1m110/110\u001b[0m \u001b[32m━━━━━━━━━━━━━━━━━━━━\u001b[0m\u001b[37m\u001b[0m \u001b[1m1s\u001b[0m 6ms/step - accuracy: 0.8323 - loss: 0.4881 - val_accuracy: 0.8769 - val_loss: 0.3758\n",
            "Epoch 128/300\n",
            "\u001b[1m110/110\u001b[0m \u001b[32m━━━━━━━━━━━━━━━━━━━━\u001b[0m\u001b[37m\u001b[0m \u001b[1m1s\u001b[0m 6ms/step - accuracy: 0.8231 - loss: 0.4792 - val_accuracy: 0.8781 - val_loss: 0.3723\n",
            "Epoch 129/300\n",
            "\u001b[1m110/110\u001b[0m \u001b[32m━━━━━━━━━━━━━━━━━━━━\u001b[0m\u001b[37m\u001b[0m \u001b[1m1s\u001b[0m 6ms/step - accuracy: 0.8369 - loss: 0.4675 - val_accuracy: 0.8786 - val_loss: 0.3700\n",
            "Epoch 130/300\n",
            "\u001b[1m110/110\u001b[0m \u001b[32m━━━━━━━━━━━━━━━━━━━━\u001b[0m\u001b[37m\u001b[0m \u001b[1m1s\u001b[0m 5ms/step - accuracy: 0.8352 - loss: 0.4745 - val_accuracy: 0.8832 - val_loss: 0.3699\n",
            "Epoch 131/300\n",
            "\u001b[1m110/110\u001b[0m \u001b[32m━━━━━━━━━━━━━━━━━━━━\u001b[0m\u001b[37m\u001b[0m \u001b[1m1s\u001b[0m 5ms/step - accuracy: 0.8334 - loss: 0.4809 - val_accuracy: 0.8815 - val_loss: 0.3723\n",
            "Epoch 132/300\n",
            "\u001b[1m110/110\u001b[0m \u001b[32m━━━━━━━━━━━━━━━━━━━━\u001b[0m\u001b[37m\u001b[0m \u001b[1m1s\u001b[0m 5ms/step - accuracy: 0.8231 - loss: 0.4916 - val_accuracy: 0.8741 - val_loss: 0.3798\n",
            "Epoch 133/300\n",
            "\u001b[1m110/110\u001b[0m \u001b[32m━━━━━━━━━━━━━━━━━━━━\u001b[0m\u001b[37m\u001b[0m \u001b[1m1s\u001b[0m 6ms/step - accuracy: 0.8375 - loss: 0.4656 - val_accuracy: 0.8701 - val_loss: 0.3831\n",
            "Epoch 134/300\n",
            "\u001b[1m110/110\u001b[0m \u001b[32m━━━━━━━━━━━━━━━━━━━━\u001b[0m\u001b[37m\u001b[0m \u001b[1m1s\u001b[0m 5ms/step - accuracy: 0.8414 - loss: 0.4550 - val_accuracy: 0.8798 - val_loss: 0.3652\n",
            "Epoch 135/300\n",
            "\u001b[1m110/110\u001b[0m \u001b[32m━━━━━━━━━━━━━━━━━━━━\u001b[0m\u001b[37m\u001b[0m \u001b[1m1s\u001b[0m 6ms/step - accuracy: 0.8332 - loss: 0.4660 - val_accuracy: 0.8827 - val_loss: 0.3675\n",
            "Epoch 136/300\n",
            "\u001b[1m110/110\u001b[0m \u001b[32m━━━━━━━━━━━━━━━━━━━━\u001b[0m\u001b[37m\u001b[0m \u001b[1m2s\u001b[0m 9ms/step - accuracy: 0.8378 - loss: 0.4578 - val_accuracy: 0.8821 - val_loss: 0.3624\n",
            "Epoch 137/300\n",
            "\u001b[1m110/110\u001b[0m \u001b[32m━━━━━━━━━━━━━━━━━━━━\u001b[0m\u001b[37m\u001b[0m \u001b[1m1s\u001b[0m 10ms/step - accuracy: 0.8343 - loss: 0.4463 - val_accuracy: 0.8781 - val_loss: 0.3704\n",
            "Epoch 138/300\n",
            "\u001b[1m110/110\u001b[0m \u001b[32m━━━━━━━━━━━━━━━━━━━━\u001b[0m\u001b[37m\u001b[0m \u001b[1m1s\u001b[0m 11ms/step - accuracy: 0.8391 - loss: 0.4638 - val_accuracy: 0.8838 - val_loss: 0.3612\n",
            "Epoch 139/300\n",
            "\u001b[1m110/110\u001b[0m \u001b[32m━━━━━━━━━━━━━━━━━━━━\u001b[0m\u001b[37m\u001b[0m \u001b[1m1s\u001b[0m 10ms/step - accuracy: 0.8258 - loss: 0.4793 - val_accuracy: 0.8844 - val_loss: 0.3645\n",
            "Epoch 140/300\n",
            "\u001b[1m110/110\u001b[0m \u001b[32m━━━━━━━━━━━━━━━━━━━━\u001b[0m\u001b[37m\u001b[0m \u001b[1m1s\u001b[0m 8ms/step - accuracy: 0.8425 - loss: 0.4576 - val_accuracy: 0.8786 - val_loss: 0.3682\n",
            "Epoch 141/300\n",
            "\u001b[1m110/110\u001b[0m \u001b[32m━━━━━━━━━━━━━━━━━━━━\u001b[0m\u001b[37m\u001b[0m \u001b[1m1s\u001b[0m 5ms/step - accuracy: 0.8380 - loss: 0.4488 - val_accuracy: 0.8844 - val_loss: 0.3601\n",
            "Epoch 142/300\n",
            "\u001b[1m110/110\u001b[0m \u001b[32m━━━━━━━━━━━━━━━━━━━━\u001b[0m\u001b[37m\u001b[0m \u001b[1m1s\u001b[0m 5ms/step - accuracy: 0.8445 - loss: 0.4584 - val_accuracy: 0.8827 - val_loss: 0.3594\n",
            "Epoch 143/300\n",
            "\u001b[1m110/110\u001b[0m \u001b[32m━━━━━━━━━━━━━━━━━━━━\u001b[0m\u001b[37m\u001b[0m \u001b[1m1s\u001b[0m 5ms/step - accuracy: 0.8378 - loss: 0.4603 - val_accuracy: 0.8769 - val_loss: 0.3709\n",
            "Epoch 144/300\n",
            "\u001b[1m110/110\u001b[0m \u001b[32m━━━━━━━━━━━━━━━━━━━━\u001b[0m\u001b[37m\u001b[0m \u001b[1m1s\u001b[0m 6ms/step - accuracy: 0.8377 - loss: 0.4515 - val_accuracy: 0.8867 - val_loss: 0.3606\n",
            "Epoch 145/300\n",
            "\u001b[1m110/110\u001b[0m \u001b[32m━━━━━━━━━━━━━━━━━━━━\u001b[0m\u001b[37m\u001b[0m \u001b[1m1s\u001b[0m 6ms/step - accuracy: 0.8359 - loss: 0.4848 - val_accuracy: 0.8907 - val_loss: 0.3560\n",
            "Epoch 146/300\n",
            "\u001b[1m110/110\u001b[0m \u001b[32m━━━━━━━━━━━━━━━━━━━━\u001b[0m\u001b[37m\u001b[0m \u001b[1m1s\u001b[0m 6ms/step - accuracy: 0.8358 - loss: 0.4730 - val_accuracy: 0.8809 - val_loss: 0.3644\n",
            "Epoch 147/300\n",
            "\u001b[1m110/110\u001b[0m \u001b[32m━━━━━━━━━━━━━━━━━━━━\u001b[0m\u001b[37m\u001b[0m \u001b[1m1s\u001b[0m 6ms/step - accuracy: 0.8286 - loss: 0.4712 - val_accuracy: 0.8844 - val_loss: 0.3586\n",
            "Epoch 148/300\n",
            "\u001b[1m110/110\u001b[0m \u001b[32m━━━━━━━━━━━━━━━━━━━━\u001b[0m\u001b[37m\u001b[0m \u001b[1m1s\u001b[0m 6ms/step - accuracy: 0.8400 - loss: 0.4375 - val_accuracy: 0.8849 - val_loss: 0.3646\n",
            "Epoch 149/300\n",
            "\u001b[1m110/110\u001b[0m \u001b[32m━━━━━━━━━━━━━━━━━━━━\u001b[0m\u001b[37m\u001b[0m \u001b[1m1s\u001b[0m 6ms/step - accuracy: 0.8348 - loss: 0.4605 - val_accuracy: 0.8895 - val_loss: 0.3541\n",
            "Epoch 150/300\n",
            "\u001b[1m110/110\u001b[0m \u001b[32m━━━━━━━━━━━━━━━━━━━━\u001b[0m\u001b[37m\u001b[0m \u001b[1m1s\u001b[0m 6ms/step - accuracy: 0.8404 - loss: 0.4673 - val_accuracy: 0.8901 - val_loss: 0.3527\n",
            "Epoch 151/300\n",
            "\u001b[1m110/110\u001b[0m \u001b[32m━━━━━━━━━━━━━━━━━━━━\u001b[0m\u001b[37m\u001b[0m \u001b[1m1s\u001b[0m 6ms/step - accuracy: 0.8396 - loss: 0.4466 - val_accuracy: 0.8890 - val_loss: 0.3583\n",
            "Epoch 152/300\n",
            "\u001b[1m110/110\u001b[0m \u001b[32m━━━━━━━━━━━━━━━━━━━━\u001b[0m\u001b[37m\u001b[0m \u001b[1m1s\u001b[0m 8ms/step - accuracy: 0.8433 - loss: 0.4575 - val_accuracy: 0.8878 - val_loss: 0.3632\n",
            "Epoch 153/300\n",
            "\u001b[1m110/110\u001b[0m \u001b[32m━━━━━━━━━━━━━━━━━━━━\u001b[0m\u001b[37m\u001b[0m \u001b[1m2s\u001b[0m 10ms/step - accuracy: 0.8476 - loss: 0.4415 - val_accuracy: 0.8867 - val_loss: 0.3558\n",
            "Epoch 154/300\n",
            "\u001b[1m110/110\u001b[0m \u001b[32m━━━━━━━━━━━━━━━━━━━━\u001b[0m\u001b[37m\u001b[0m \u001b[1m1s\u001b[0m 11ms/step - accuracy: 0.8470 - loss: 0.4482 - val_accuracy: 0.8884 - val_loss: 0.3546\n",
            "Epoch 155/300\n",
            "\u001b[1m110/110\u001b[0m \u001b[32m━━━━━━━━━━━━━━━━━━━━\u001b[0m\u001b[37m\u001b[0m \u001b[1m1s\u001b[0m 10ms/step - accuracy: 0.8383 - loss: 0.4619 - val_accuracy: 0.8878 - val_loss: 0.3572\n",
            "Epoch 156/300\n",
            "\u001b[1m110/110\u001b[0m \u001b[32m━━━━━━━━━━━━━━━━━━━━\u001b[0m\u001b[37m\u001b[0m \u001b[1m1s\u001b[0m 7ms/step - accuracy: 0.8453 - loss: 0.4550 - val_accuracy: 0.8809 - val_loss: 0.3610\n",
            "Epoch 157/300\n",
            "\u001b[1m110/110\u001b[0m \u001b[32m━━━━━━━━━━━━━━━━━━━━\u001b[0m\u001b[37m\u001b[0m \u001b[1m1s\u001b[0m 5ms/step - accuracy: 0.8403 - loss: 0.4494 - val_accuracy: 0.8821 - val_loss: 0.3670\n",
            "Epoch 158/300\n",
            "\u001b[1m110/110\u001b[0m \u001b[32m━━━━━━━━━━━━━━━━━━━━\u001b[0m\u001b[37m\u001b[0m \u001b[1m1s\u001b[0m 5ms/step - accuracy: 0.8414 - loss: 0.4265 - val_accuracy: 0.8804 - val_loss: 0.3641\n",
            "Epoch 159/300\n",
            "\u001b[1m110/110\u001b[0m \u001b[32m━━━━━━━━━━━━━━━━━━━━\u001b[0m\u001b[37m\u001b[0m \u001b[1m1s\u001b[0m 5ms/step - accuracy: 0.8515 - loss: 0.4272 - val_accuracy: 0.8861 - val_loss: 0.3615\n",
            "Epoch 160/300\n",
            "\u001b[1m110/110\u001b[0m \u001b[32m━━━━━━━━━━━━━━━━━━━━\u001b[0m\u001b[37m\u001b[0m \u001b[1m1s\u001b[0m 9ms/step - accuracy: 0.8375 - loss: 0.4542 - val_accuracy: 0.8827 - val_loss: 0.3632\n",
            "Epoch 161/300\n",
            "\u001b[1m110/110\u001b[0m \u001b[32m━━━━━━━━━━━━━━━━━━━━\u001b[0m\u001b[37m\u001b[0m \u001b[1m1s\u001b[0m 9ms/step - accuracy: 0.8564 - loss: 0.4116 - val_accuracy: 0.8890 - val_loss: 0.3671\n",
            "Epoch 162/300\n",
            "\u001b[1m110/110\u001b[0m \u001b[32m━━━━━━━━━━━━━━━━━━━━\u001b[0m\u001b[37m\u001b[0m \u001b[1m1s\u001b[0m 5ms/step - accuracy: 0.8462 - loss: 0.4316 - val_accuracy: 0.8872 - val_loss: 0.3582\n",
            "Epoch 163/300\n",
            "\u001b[1m110/110\u001b[0m \u001b[32m━━━━━━━━━━━━━━━━━━━━\u001b[0m\u001b[37m\u001b[0m \u001b[1m1s\u001b[0m 6ms/step - accuracy: 0.8560 - loss: 0.4264 - val_accuracy: 0.8912 - val_loss: 0.3519\n",
            "Epoch 164/300\n",
            "\u001b[1m110/110\u001b[0m \u001b[32m━━━━━━━━━━━━━━━━━━━━\u001b[0m\u001b[37m\u001b[0m \u001b[1m1s\u001b[0m 6ms/step - accuracy: 0.8548 - loss: 0.4369 - val_accuracy: 0.8912 - val_loss: 0.3498\n",
            "Epoch 165/300\n",
            "\u001b[1m110/110\u001b[0m \u001b[32m━━━━━━━━━━━━━━━━━━━━\u001b[0m\u001b[37m\u001b[0m \u001b[1m1s\u001b[0m 6ms/step - accuracy: 0.8412 - loss: 0.4401 - val_accuracy: 0.8935 - val_loss: 0.3531\n",
            "Epoch 166/300\n",
            "\u001b[1m110/110\u001b[0m \u001b[32m━━━━━━━━━━━━━━━━━━━━\u001b[0m\u001b[37m\u001b[0m \u001b[1m1s\u001b[0m 6ms/step - accuracy: 0.8579 - loss: 0.4203 - val_accuracy: 0.8878 - val_loss: 0.3582\n",
            "Epoch 167/300\n",
            "\u001b[1m110/110\u001b[0m \u001b[32m━━━━━━━━━━━━━━━━━━━━\u001b[0m\u001b[37m\u001b[0m \u001b[1m1s\u001b[0m 6ms/step - accuracy: 0.8412 - loss: 0.4435 - val_accuracy: 0.8924 - val_loss: 0.3572\n",
            "Epoch 168/300\n",
            "\u001b[1m110/110\u001b[0m \u001b[32m━━━━━━━━━━━━━━━━━━━━\u001b[0m\u001b[37m\u001b[0m \u001b[1m2s\u001b[0m 10ms/step - accuracy: 0.8494 - loss: 0.4182 - val_accuracy: 0.8964 - val_loss: 0.3536\n",
            "Epoch 169/300\n",
            "\u001b[1m110/110\u001b[0m \u001b[32m━━━━━━━━━━━━━━━━━━━━\u001b[0m\u001b[37m\u001b[0m \u001b[1m1s\u001b[0m 9ms/step - accuracy: 0.8539 - loss: 0.4223 - val_accuracy: 0.8941 - val_loss: 0.3519\n",
            "Epoch 170/300\n",
            "\u001b[1m110/110\u001b[0m \u001b[32m━━━━━━━━━━━━━━━━━━━━\u001b[0m\u001b[37m\u001b[0m \u001b[1m1s\u001b[0m 11ms/step - accuracy: 0.8511 - loss: 0.4351 - val_accuracy: 0.8895 - val_loss: 0.3562\n",
            "Epoch 171/300\n",
            "\u001b[1m110/110\u001b[0m \u001b[32m━━━━━━━━━━━━━━━━━━━━\u001b[0m\u001b[37m\u001b[0m \u001b[1m1s\u001b[0m 11ms/step - accuracy: 0.8492 - loss: 0.4295 - val_accuracy: 0.8867 - val_loss: 0.3565\n",
            "Epoch 172/300\n",
            "\u001b[1m110/110\u001b[0m \u001b[32m━━━━━━━━━━━━━━━━━━━━\u001b[0m\u001b[37m\u001b[0m \u001b[1m1s\u001b[0m 6ms/step - accuracy: 0.8516 - loss: 0.4331 - val_accuracy: 0.8907 - val_loss: 0.3556\n",
            "Epoch 173/300\n",
            "\u001b[1m110/110\u001b[0m \u001b[32m━━━━━━━━━━━━━━━━━━━━\u001b[0m\u001b[37m\u001b[0m \u001b[1m1s\u001b[0m 6ms/step - accuracy: 0.8493 - loss: 0.4148 - val_accuracy: 0.8935 - val_loss: 0.3595\n",
            "Epoch 174/300\n",
            "\u001b[1m110/110\u001b[0m \u001b[32m━━━━━━━━━━━━━━━━━━━━\u001b[0m\u001b[37m\u001b[0m \u001b[1m1s\u001b[0m 6ms/step - accuracy: 0.8520 - loss: 0.4265 - val_accuracy: 0.8838 - val_loss: 0.3613\n",
            "Epoch 175/300\n",
            "\u001b[1m110/110\u001b[0m \u001b[32m━━━━━━━━━━━━━━━━━━━━\u001b[0m\u001b[37m\u001b[0m \u001b[1m1s\u001b[0m 6ms/step - accuracy: 0.8553 - loss: 0.4009 - val_accuracy: 0.8832 - val_loss: 0.3522\n",
            "Epoch 176/300\n",
            "\u001b[1m110/110\u001b[0m \u001b[32m━━━━━━━━━━━━━━━━━━━━\u001b[0m\u001b[37m\u001b[0m \u001b[1m1s\u001b[0m 6ms/step - accuracy: 0.8479 - loss: 0.4178 - val_accuracy: 0.8890 - val_loss: 0.3556\n",
            "Epoch 177/300\n",
            "\u001b[1m110/110\u001b[0m \u001b[32m━━━━━━━━━━━━━━━━━━━━\u001b[0m\u001b[37m\u001b[0m \u001b[1m1s\u001b[0m 6ms/step - accuracy: 0.8485 - loss: 0.4378 - val_accuracy: 0.8890 - val_loss: 0.3555\n",
            "Epoch 178/300\n",
            "\u001b[1m110/110\u001b[0m \u001b[32m━━━━━━━━━━━━━━━━━━━━\u001b[0m\u001b[37m\u001b[0m \u001b[1m1s\u001b[0m 5ms/step - accuracy: 0.8508 - loss: 0.4379 - val_accuracy: 0.8849 - val_loss: 0.3536\n",
            "Epoch 179/300\n",
            "\u001b[1m110/110\u001b[0m \u001b[32m━━━━━━━━━━━━━━━━━━━━\u001b[0m\u001b[37m\u001b[0m \u001b[1m1s\u001b[0m 5ms/step - accuracy: 0.8541 - loss: 0.4209 - val_accuracy: 0.8901 - val_loss: 0.3546\n"
          ]
        },
        {
          "output_type": "execute_result",
          "data": {
            "text/plain": [
              "<keras.src.callbacks.history.History at 0x7d5e502e9cf0>"
            ]
          },
          "metadata": {},
          "execution_count": 6
        }
      ],
      "source": [
        "from tensorflow.keras.models import Sequential\n",
        "from tensorflow.keras.layers import Dense, Dropout, Activation, BatchNormalization\n",
        "from tensorflow.keras.optimizers import Adam\n",
        "from tensorflow.keras.callbacks import EarlyStopping\n",
        "\n",
        "# Initialize the model\n",
        "model = Sequential()\n",
        "\n",
        "#input\n",
        "model.add(Dense(120, input_shape=(22,)))\n",
        "model.add(Activation('relu'))\n",
        "model.add(BatchNormalization())  # Added Batch Normalization\n",
        "model.add(Dropout(0.3))          # Reduced Dropout\n",
        "\n",
        "# Ist hidden layer\n",
        "model.add(Dense(240))\n",
        "model.add(Activation('relu'))\n",
        "model.add(BatchNormalization())\n",
        "model.add(Dropout(0.3))\n",
        "\n",
        "# 2nd hidden layer (final layer)\n",
        "model.add(Dense(120))  # Balanced neuron count\n",
        "model.add(Activation('relu'))\n",
        "model.add(BatchNormalization())\n",
        "model.add(Dropout(0.3))\n",
        "\n",
        "# Output layer\n",
        "model.add(Dense(num_labels))  # num_labels = number of output classes\n",
        "model.add(Activation('softmax'))\n",
        "\n",
        "# Compile the model with a lower learning rate\n",
        "optimizer = Adam(learning_rate=0.0005)  # Reduced learning rate\n",
        "model.compile(loss='categorical_crossentropy', metrics=['accuracy'], optimizer=optimizer)\n",
        "\n",
        "# Early stopping to prevent overfitting\n",
        "early_stopping = EarlyStopping(monitor='val_loss', patience=15, restore_best_weights=True)\n",
        "\n",
        "# Fit the model with an increased batch size\n",
        "epochscount = 300  # Reduced epochs to avoid overtraining\n",
        "num_batch_size = 64  # Increased batch size\n",
        "model.fit(X_train, y_train,\n",
        "          batch_size=num_batch_size,\n",
        "          epochs=epochscount,\n",
        "          validation_data=(X_test, y_test),\n",
        "          callbacks=[early_stopping],\n",
        "          verbose=1)"
      ]
    },
    {
      "cell_type": "code",
      "source": [],
      "metadata": {
        "id": "lF8mMLqJqUNg"
      },
      "execution_count": null,
      "outputs": []
    },
    {
      "cell_type": "code",
      "source": [],
      "metadata": {
        "id": "_3FTcvgudCP7"
      },
      "execution_count": null,
      "outputs": []
    },
    {
      "cell_type": "code",
      "execution_count": null,
      "metadata": {
        "colab": {
          "base_uri": "https://localhost:8080/"
        },
        "id": "xuL6f7dssjG8",
        "outputId": "63f08353-d5f1-4ae3-e8a7-d711413f1be0"
      },
      "outputs": [
        {
          "output_type": "stream",
          "name": "stdout",
          "text": [
            "\u001b[1m55/55\u001b[0m \u001b[32m━━━━━━━━━━━━━━━━━━━━\u001b[0m\u001b[37m\u001b[0m \u001b[1m1s\u001b[0m 2ms/step - accuracy: 0.8804 - loss: 0.3704\n",
            "0.8883800506591797\n"
          ]
        }
      ],
      "source": [
        "validation_test_set_accuracy = model.evaluate(X_test,y_test,verbose=1)\n",
        "print(validation_test_set_accuracy[1])"
      ]
    },
    {
      "cell_type": "code",
      "execution_count": null,
      "metadata": {
        "colab": {
          "base_uri": "https://localhost:8080/",
          "height": 421
        },
        "id": "iJ53o_Qwsx_r",
        "outputId": "b8117085-547c-49fd-db39-caaadc6b3fa8"
      },
      "outputs": [
        {
          "output_type": "stream",
          "name": "stdout",
          "text": [
            "\u001b[1m1/1\u001b[0m \u001b[32m━━━━━━━━━━━━━━━━━━━━\u001b[0m\u001b[37m\u001b[0m \u001b[1m0s\u001b[0m 145ms/step\n",
            "Predicted class: 9\n",
            "Classified as : Music\n"
          ]
        },
        {
          "output_type": "display_data",
          "data": {
            "text/plain": [
              "<Figure size 1000x400 with 1 Axes>"
            ],
            "image/png": "[encoded data removed]"
          },
          "metadata": {}
        }
      ],
      "source": [
        "\n",
        "\n",
        "\n",
        "def preprocess_audio(file_path, target_sampling_rate=22050):\n",
        "    # Load audio file and resample it to the target sampling rate\n",
        "    audio, sr = librosa.load(file_path, sr=target_sampling_rate)\n",
        "    plt.figure(figsize=(10, 4))\n",
        "    plt.plot(audio)\n",
        "    plt.show\n",
        "\n",
        "    # Normalize audio to avoid overflow\n",
        "    audio = librosa.util.normalize(audio)\n",
        "\n",
        "    # Extract features (RMS, ZCR, MFCCs)\n",
        "    rms = librosa.feature.rms(y=audio).mean()\n",
        "    zcr = librosa.feature.zero_crossing_rate(y=audio).mean()\n",
        "\n",
        "    # Adjust n_mels and fmax to avoid empty filters in MFCC extraction\n",
        "    mfccs = librosa.feature.mfcc(y=audio, sr=sr, n_mfcc=20, n_mels=40, fmax=sr/2)\n",
        "    mfccs_mean = np.mean(mfccs, axis=1)\n",
        "\n",
        "    # Combine all features\n",
        "    feature_set = np.hstack((rms, zcr, mfccs_mean))\n",
        "    return feature_set\n",
        "\n",
        "# Load a new audio file for testing\n",
        "new_audio_file_path = '/content/drive/MyDrive/UrbanSound8K/fold8/99179-9-0-12.wav'  # Replace with your file path\n",
        "new_audio_features = preprocess_audio(new_audio_file_path)\n",
        "new_audio_features = new_audio_features.reshape(1, -1)\n",
        "\n",
        "# Predict the class of the new audio file\n",
        "predicted_class = model.predict(new_audio_features)\n",
        "predicted_class_label = np.argmax(predicted_class, axis=1)[0]\n",
        "\n",
        "# Classify as speech, music, or noise based on predicted label\n",
        "if predicted_class_label == 2:\n",
        "    label = 'Speech'\n",
        "elif predicted_class_label == 9:\n",
        "    label = 'Music'\n",
        "else:\n",
        "    label = 'Noise'\n",
        "\n",
        "# Display the predicted class\n",
        "print(f'Predicted class: {predicted_class_label}')\n",
        "print(f'Classified as : {label}')\n"
      ]
    },
    {
      "cell_type": "code",
      "execution_count": null,
      "metadata": {
        "colab": {
          "base_uri": "https://localhost:8080/"
        },
        "id": "WkzbQAtvEgIX",
        "outputId": "4c36cdad-c46f-434b-bc66-9ba86fc74e75"
      },
      "outputs": [
        {
          "output_type": "stream",
          "name": "stdout",
          "text": [
            "\u001b[1m55/55\u001b[0m \u001b[32m━━━━━━━━━━━━━━━━━━━━\u001b[0m\u001b[37m\u001b[0m \u001b[1m0s\u001b[0m 3ms/step - accuracy: 0.8804 - loss: 0.3704\n",
            "Test Accuracy: 88.84%\n",
            "\u001b[1m219/219\u001b[0m \u001b[32m━━━━━━━━━━━━━━━━━━━━\u001b[0m\u001b[37m\u001b[0m \u001b[1m0s\u001b[0m 2ms/step - accuracy: 0.9569 - loss: 0.1537\n",
            "Training Accuracy: 95.63%\n"
          ]
        }
      ],
      "source": [
        "test_loss, test_accuracy = model.evaluate(X_test, y_test)\n",
        "print(f'Test Accuracy: {test_accuracy*100:.2f}%')\n",
        "train_loss, train_accuracy = model.evaluate(X_train, y_train)\n",
        "\n",
        "print(f\"Training Accuracy: {train_accuracy * 100:.2f}%\")"
      ]
    },
    {
      "cell_type": "code",
      "source": [
        "import numpy as np\n",
        "import matplotlib.pyplot as plt\n",
        "from sklearn.metrics import classification_report, confusion_matrix, ConfusionMatrixDisplay\n",
        "\n",
        "# Predictions\n",
        "y_pred = model.predict(X_test)\n",
        "y_pred_classes = np.argmax(y_pred, axis=1)  # Get the class with the highest probability\n",
        "\n",
        "# Convert y_test to class labels if one-hot encoded\n",
        "y_test_classes = np.argmax(y_test, axis=1)\n",
        "\n",
        "# Display classification report\n",
        "print(\"Classification Report:\")\n",
        "print(classification_report(y_test_classes, y_pred_classes))\n",
        "\n",
        "# Confusion Matrix\n",
        "conf_matrix = confusion_matrix(y_test_classes, y_pred_classes)\n",
        "print(\"Confusion Matrix:\")\n",
        "print(conf_matrix)\n",
        "\n",
        "# Plot Confusion Matrix\n",
        "disp = ConfusionMatrixDisplay(confusion_matrix=conf_matrix, display_labels=np.unique(y_test_classes))\n",
        "disp.plot(cmap='viridis')  # You can change 'viridis' to other colormaps like 'Blues'\n",
        "plt.title('Confusion Matrix')\n",
        "plt.show()\n"
      ],
      "metadata": {
        "colab": {
          "base_uri": "https://localhost:8080/",
          "height": 1000
        },
        "id": "51zdGWvMW4ih",
        "outputId": "020783b7-0f90-4029-b02d-a95f49856e97"
      },
      "execution_count": null,
      "outputs": [
        {
          "output_type": "stream",
          "name": "stdout",
          "text": [
            "\u001b[1m55/55\u001b[0m \u001b[32m━━━━━━━━━━━━━━━━━━━━\u001b[0m\u001b[37m\u001b[0m \u001b[1m0s\u001b[0m 2ms/step\n",
            "Classification Report:\n",
            "              precision    recall  f1-score   support\n",
            "\n",
            "           0       0.90      0.95      0.93       203\n",
            "           1       0.97      0.87      0.92        86\n",
            "           2       0.74      0.82      0.78       183\n",
            "           3       0.84      0.86      0.85       201\n",
            "           4       0.92      0.87      0.90       206\n",
            "           5       0.95      0.95      0.95       193\n",
            "           6       0.83      0.89      0.86        72\n",
            "           7       0.96      0.95      0.95       208\n",
            "           8       0.96      0.97      0.97       165\n",
            "           9       0.84      0.77      0.80       230\n",
            "\n",
            "    accuracy                           0.89      1747\n",
            "   macro avg       0.89      0.89      0.89      1747\n",
            "weighted avg       0.89      0.89      0.89      1747\n",
            "\n",
            "Confusion Matrix:\n",
            "[[193   0   2   1   1   3   1   0   0   2]\n",
            " [  0  75   1   0   2   0   0   3   0   5]\n",
            " [  3   1 150   9   1   3   8   0   1   7]\n",
            " [  4   1  10 173   3   2   3   0   2   3]\n",
            " [  1   0  12   1 180   0   0   4   0   8]\n",
            " [  0   0   4   2   0 184   0   0   0   3]\n",
            " [  0   0   4   4   0   0  64   0   0   0]\n",
            " [  1   0   0   0   6   0   0 197   0   4]\n",
            " [  0   0   0   3   0   0   0   0 160   2]\n",
            " [ 12   0  20  12   2   2   1   2   3 176]]\n"
          ]
        },
        {
          "output_type": "display_data",
          "data": {
            "text/plain": [
              "<Figure size 640x480 with 2 Axes>"
            ],
            "image/png": "[encoded data removed]"
          },
          "metadata": {}
        }
      ]
    },
    {
      "cell_type": "code",
      "source": [],
      "metadata": {
        "id": "fjem1cXvW4fC"
      },
      "execution_count": null,
      "outputs": []
    },
    {
      "cell_type": "code",
      "execution_count": null,
      "metadata": {
        "id": "ghralhLQI16U"
      },
      "outputs": [],
      "source": [
        "# Save the model in the native Keras format\n",
        "model.save('/content/drive/MyDrive/UrbanSound8K/audio_classification_model.keras')\n"
      ]
    },
    {
      "cell_type": "code",
      "execution_count": null,
      "metadata": {
        "id": "4dSH4GT7itOC",
        "colab": {
          "base_uri": "https://localhost:8080/",
          "height": 641
        },
        "outputId": "5aa4268f-da2f-488f-8986-d7e0cd7d62cf"
      },
      "outputs": [
        {
          "output_type": "display_data",
          "data": {
            "text/plain": [
              "\u001b[1mModel: \"sequential_4\"\u001b[0m\n"
            ],
            "text/html": [
              "<pre style=\"white-space:pre;overflow-x:auto;line-height:normal;font-family:Menlo,'DejaVu Sans Mono',consolas,'Courier New',monospace\"><span style=\"font-weight: bold\">Model: \"sequential_4\"</span>\n",
              "</pre>\n"
            ]
          },
          "metadata": {}
        },
        {
          "output_type": "display_data",
          "data": {
            "text/plain": [
              "┏━━━━━━━━━━━━━━━━━━━━━━━━━━━━━━━━━━━━━━┳━━━━━━━━━━━━━━━━━━━━━━━━━━━━━┳━━━━━━━━━━━━━━━━━┓\n",
              "┃\u001b[1m \u001b[0m\u001b[1mLayer (type)                        \u001b[0m\u001b[1m \u001b[0m┃\u001b[1m \u001b[0m\u001b[1mOutput Shape               \u001b[0m\u001b[1m \u001b[0m┃\u001b[1m \u001b[0m\u001b[1m        Param #\u001b[0m\u001b[1m \u001b[0m┃\n",
              "┡━━━━━━━━━━━━━━━━━━━━━━━━━━━━━━━━━━━━━━╇━━━━━━━━━━━━━━━━━━━━━━━━━━━━━╇━━━━━━━━━━━━━━━━━┩\n",
              "│ dense_16 (\u001b[38;5;33mDense\u001b[0m)                     │ (\u001b[38;5;45mNone\u001b[0m, \u001b[38;5;34m120\u001b[0m)                 │           \u001b[38;5;34m2,760\u001b[0m │\n",
              "├──────────────────────────────────────┼─────────────────────────────┼─────────────────┤\n",
              "│ activation_16 (\u001b[38;5;33mActivation\u001b[0m)           │ (\u001b[38;5;45mNone\u001b[0m, \u001b[38;5;34m120\u001b[0m)                 │               \u001b[38;5;34m0\u001b[0m │\n",
              "├──────────────────────────────────────┼─────────────────────────────┼─────────────────┤\n",
              "│ batch_normalization_12               │ (\u001b[38;5;45mNone\u001b[0m, \u001b[38;5;34m120\u001b[0m)                 │             \u001b[38;5;34m480\u001b[0m │\n",
              "│ (\u001b[38;5;33mBatchNormalization\u001b[0m)                 │                             │                 │\n",
              "├──────────────────────────────────────┼─────────────────────────────┼─────────────────┤\n",
              "│ dropout_12 (\u001b[38;5;33mDropout\u001b[0m)                 │ (\u001b[38;5;45mNone\u001b[0m, \u001b[38;5;34m120\u001b[0m)                 │               \u001b[38;5;34m0\u001b[0m │\n",
              "├──────────────────────────────────────┼─────────────────────────────┼─────────────────┤\n",
              "│ dense_17 (\u001b[38;5;33mDense\u001b[0m)                     │ (\u001b[38;5;45mNone\u001b[0m, \u001b[38;5;34m240\u001b[0m)                 │          \u001b[38;5;34m29,040\u001b[0m │\n",
              "├──────────────────────────────────────┼─────────────────────────────┼─────────────────┤\n",
              "│ activation_17 (\u001b[38;5;33mActivation\u001b[0m)           │ (\u001b[38;5;45mNone\u001b[0m, \u001b[38;5;34m240\u001b[0m)                 │               \u001b[38;5;34m0\u001b[0m │\n",
              "├──────────────────────────────────────┼─────────────────────────────┼─────────────────┤\n",
              "│ batch_normalization_13               │ (\u001b[38;5;45mNone\u001b[0m, \u001b[38;5;34m240\u001b[0m)                 │             \u001b[38;5;34m960\u001b[0m │\n",
              "│ (\u001b[38;5;33mBatchNormalization\u001b[0m)                 │                             │                 │\n",
              "├──────────────────────────────────────┼─────────────────────────────┼─────────────────┤\n",
              "│ dropout_13 (\u001b[38;5;33mDropout\u001b[0m)                 │ (\u001b[38;5;45mNone\u001b[0m, \u001b[38;5;34m240\u001b[0m)                 │               \u001b[38;5;34m0\u001b[0m │\n",
              "├──────────────────────────────────────┼─────────────────────────────┼─────────────────┤\n",
              "│ dense_18 (\u001b[38;5;33mDense\u001b[0m)                     │ (\u001b[38;5;45mNone\u001b[0m, \u001b[38;5;34m120\u001b[0m)                 │          \u001b[38;5;34m28,920\u001b[0m │\n",
              "├──────────────────────────────────────┼─────────────────────────────┼─────────────────┤\n",
              "│ activation_18 (\u001b[38;5;33mActivation\u001b[0m)           │ (\u001b[38;5;45mNone\u001b[0m, \u001b[38;5;34m120\u001b[0m)                 │               \u001b[38;5;34m0\u001b[0m │\n",
              "├──────────────────────────────────────┼─────────────────────────────┼─────────────────┤\n",
              "│ batch_normalization_14               │ (\u001b[38;5;45mNone\u001b[0m, \u001b[38;5;34m120\u001b[0m)                 │             \u001b[38;5;34m480\u001b[0m │\n",
              "│ (\u001b[38;5;33mBatchNormalization\u001b[0m)                 │                             │                 │\n",
              "├──────────────────────────────────────┼─────────────────────────────┼─────────────────┤\n",
              "│ dropout_14 (\u001b[38;5;33mDropout\u001b[0m)                 │ (\u001b[38;5;45mNone\u001b[0m, \u001b[38;5;34m120\u001b[0m)                 │               \u001b[38;5;34m0\u001b[0m │\n",
              "├──────────────────────────────────────┼─────────────────────────────┼─────────────────┤\n",
              "│ dense_19 (\u001b[38;5;33mDense\u001b[0m)                     │ (\u001b[38;5;45mNone\u001b[0m, \u001b[38;5;34m10\u001b[0m)                  │           \u001b[38;5;34m1,210\u001b[0m │\n",
              "├──────────────────────────────────────┼─────────────────────────────┼─────────────────┤\n",
              "│ activation_19 (\u001b[38;5;33mActivation\u001b[0m)           │ (\u001b[38;5;45mNone\u001b[0m, \u001b[38;5;34m10\u001b[0m)                  │               \u001b[38;5;34m0\u001b[0m │\n",
              "└──────────────────────────────────────┴─────────────────────────────┴─────────────────┘\n"
            ],
            "text/html": [
              "<pre style=\"white-space:pre;overflow-x:auto;line-height:normal;font-family:Menlo,'DejaVu Sans Mono',consolas,'Courier New',monospace\">┏━━━━━━━━━━━━━━━━━━━━━━━━━━━━━━━━━━━━━━┳━━━━━━━━━━━━━━━━━━━━━━━━━━━━━┳━━━━━━━━━━━━━━━━━┓\n",
              "┃<span style=\"font-weight: bold\"> Layer (type)                         </span>┃<span style=\"font-weight: bold\"> Output Shape                </span>┃<span style=\"font-weight: bold\">         Param # </span>┃\n",
              "┡━━━━━━━━━━━━━━━━━━━━━━━━━━━━━━━━━━━━━━╇━━━━━━━━━━━━━━━━━━━━━━━━━━━━━╇━━━━━━━━━━━━━━━━━┩\n",
              "│ dense_16 (<span style=\"color: #0087ff; text-decoration-color: #0087ff\">Dense</span>)                     │ (<span style=\"color: #00d7ff; text-decoration-color: #00d7ff\">None</span>, <span style=\"color: #00af00; text-decoration-color: #00af00\">120</span>)                 │           <span style=\"color: #00af00; text-decoration-color: #00af00\">2,760</span> │\n",
              "├──────────────────────────────────────┼─────────────────────────────┼─────────────────┤\n",
              "│ activation_16 (<span style=\"color: #0087ff; text-decoration-color: #0087ff\">Activation</span>)           │ (<span style=\"color: #00d7ff; text-decoration-color: #00d7ff\">None</span>, <span style=\"color: #00af00; text-decoration-color: #00af00\">120</span>)                 │               <span style=\"color: #00af00; text-decoration-color: #00af00\">0</span> │\n",
              "├──────────────────────────────────────┼─────────────────────────────┼─────────────────┤\n",
              "│ batch_normalization_12               │ (<span style=\"color: #00d7ff; text-decoration-color: #00d7ff\">None</span>, <span style=\"color: #00af00; text-decoration-color: #00af00\">120</span>)                 │             <span style=\"color: #00af00; text-decoration-color: #00af00\">480</span> │\n",
              "│ (<span style=\"color: #0087ff; text-decoration-color: #0087ff\">BatchNormalization</span>)                 │                             │                 │\n",
              "├──────────────────────────────────────┼─────────────────────────────┼─────────────────┤\n",
              "│ dropout_12 (<span style=\"color: #0087ff; text-decoration-color: #0087ff\">Dropout</span>)                 │ (<span style=\"color: #00d7ff; text-decoration-color: #00d7ff\">None</span>, <span style=\"color: #00af00; text-decoration-color: #00af00\">120</span>)                 │               <span style=\"color: #00af00; text-decoration-color: #00af00\">0</span> │\n",
              "├──────────────────────────────────────┼─────────────────────────────┼─────────────────┤\n",
              "│ dense_17 (<span style=\"color: #0087ff; text-decoration-color: #0087ff\">Dense</span>)                     │ (<span style=\"color: #00d7ff; text-decoration-color: #00d7ff\">None</span>, <span style=\"color: #00af00; text-decoration-color: #00af00\">240</span>)                 │          <span style=\"color: #00af00; text-decoration-color: #00af00\">29,040</span> │\n",
              "├──────────────────────────────────────┼─────────────────────────────┼─────────────────┤\n",
              "│ activation_17 (<span style=\"color: #0087ff; text-decoration-color: #0087ff\">Activation</span>)           │ (<span style=\"color: #00d7ff; text-decoration-color: #00d7ff\">None</span>, <span style=\"color: #00af00; text-decoration-color: #00af00\">240</span>)                 │               <span style=\"color: #00af00; text-decoration-color: #00af00\">0</span> │\n",
              "├──────────────────────────────────────┼─────────────────────────────┼─────────────────┤\n",
              "│ batch_normalization_13               │ (<span style=\"color: #00d7ff; text-decoration-color: #00d7ff\">None</span>, <span style=\"color: #00af00; text-decoration-color: #00af00\">240</span>)                 │             <span style=\"color: #00af00; text-decoration-color: #00af00\">960</span> │\n",
              "│ (<span style=\"color: #0087ff; text-decoration-color: #0087ff\">BatchNormalization</span>)                 │                             │                 │\n",
              "├──────────────────────────────────────┼─────────────────────────────┼─────────────────┤\n",
              "│ dropout_13 (<span style=\"color: #0087ff; text-decoration-color: #0087ff\">Dropout</span>)                 │ (<span style=\"color: #00d7ff; text-decoration-color: #00d7ff\">None</span>, <span style=\"color: #00af00; text-decoration-color: #00af00\">240</span>)                 │               <span style=\"color: #00af00; text-decoration-color: #00af00\">0</span> │\n",
              "├──────────────────────────────────────┼─────────────────────────────┼─────────────────┤\n",
              "│ dense_18 (<span style=\"color: #0087ff; text-decoration-color: #0087ff\">Dense</span>)                     │ (<span style=\"color: #00d7ff; text-decoration-color: #00d7ff\">None</span>, <span style=\"color: #00af00; text-decoration-color: #00af00\">120</span>)                 │          <span style=\"color: #00af00; text-decoration-color: #00af00\">28,920</span> │\n",
              "├──────────────────────────────────────┼─────────────────────────────┼─────────────────┤\n",
              "│ activation_18 (<span style=\"color: #0087ff; text-decoration-color: #0087ff\">Activation</span>)           │ (<span style=\"color: #00d7ff; text-decoration-color: #00d7ff\">None</span>, <span style=\"color: #00af00; text-decoration-color: #00af00\">120</span>)                 │               <span style=\"color: #00af00; text-decoration-color: #00af00\">0</span> │\n",
              "├──────────────────────────────────────┼─────────────────────────────┼─────────────────┤\n",
              "│ batch_normalization_14               │ (<span style=\"color: #00d7ff; text-decoration-color: #00d7ff\">None</span>, <span style=\"color: #00af00; text-decoration-color: #00af00\">120</span>)                 │             <span style=\"color: #00af00; text-decoration-color: #00af00\">480</span> │\n",
              "│ (<span style=\"color: #0087ff; text-decoration-color: #0087ff\">BatchNormalization</span>)                 │                             │                 │\n",
              "├──────────────────────────────────────┼─────────────────────────────┼─────────────────┤\n",
              "│ dropout_14 (<span style=\"color: #0087ff; text-decoration-color: #0087ff\">Dropout</span>)                 │ (<span style=\"color: #00d7ff; text-decoration-color: #00d7ff\">None</span>, <span style=\"color: #00af00; text-decoration-color: #00af00\">120</span>)                 │               <span style=\"color: #00af00; text-decoration-color: #00af00\">0</span> │\n",
              "├──────────────────────────────────────┼─────────────────────────────┼─────────────────┤\n",
              "│ dense_19 (<span style=\"color: #0087ff; text-decoration-color: #0087ff\">Dense</span>)                     │ (<span style=\"color: #00d7ff; text-decoration-color: #00d7ff\">None</span>, <span style=\"color: #00af00; text-decoration-color: #00af00\">10</span>)                  │           <span style=\"color: #00af00; text-decoration-color: #00af00\">1,210</span> │\n",
              "├──────────────────────────────────────┼─────────────────────────────┼─────────────────┤\n",
              "│ activation_19 (<span style=\"color: #0087ff; text-decoration-color: #0087ff\">Activation</span>)           │ (<span style=\"color: #00d7ff; text-decoration-color: #00d7ff\">None</span>, <span style=\"color: #00af00; text-decoration-color: #00af00\">10</span>)                  │               <span style=\"color: #00af00; text-decoration-color: #00af00\">0</span> │\n",
              "└──────────────────────────────────────┴─────────────────────────────┴─────────────────┘\n",
              "</pre>\n"
            ]
          },
          "metadata": {}
        },
        {
          "output_type": "display_data",
          "data": {
            "text/plain": [
              "\u001b[1m Total params: \u001b[0m\u001b[38;5;34m189,632\u001b[0m (740.75 KB)\n"
            ],
            "text/html": [
              "<pre style=\"white-space:pre;overflow-x:auto;line-height:normal;font-family:Menlo,'DejaVu Sans Mono',consolas,'Courier New',monospace\"><span style=\"font-weight: bold\"> Total params: </span><span style=\"color: #00af00; text-decoration-color: #00af00\">189,632</span> (740.75 KB)\n",
              "</pre>\n"
            ]
          },
          "metadata": {}
        },
        {
          "output_type": "display_data",
          "data": {
            "text/plain": [
              "\u001b[1m Trainable params: \u001b[0m\u001b[38;5;34m62,890\u001b[0m (245.66 KB)\n"
            ],
            "text/html": [
              "<pre style=\"white-space:pre;overflow-x:auto;line-height:normal;font-family:Menlo,'DejaVu Sans Mono',consolas,'Courier New',monospace\"><span style=\"font-weight: bold\"> Trainable params: </span><span style=\"color: #00af00; text-decoration-color: #00af00\">62,890</span> (245.66 KB)\n",
              "</pre>\n"
            ]
          },
          "metadata": {}
        },
        {
          "output_type": "display_data",
          "data": {
            "text/plain": [
              "\u001b[1m Non-trainable params: \u001b[0m\u001b[38;5;34m960\u001b[0m (3.75 KB)\n"
            ],
            "text/html": [
              "<pre style=\"white-space:pre;overflow-x:auto;line-height:normal;font-family:Menlo,'DejaVu Sans Mono',consolas,'Courier New',monospace\"><span style=\"font-weight: bold\"> Non-trainable params: </span><span style=\"color: #00af00; text-decoration-color: #00af00\">960</span> (3.75 KB)\n",
              "</pre>\n"
            ]
          },
          "metadata": {}
        },
        {
          "output_type": "display_data",
          "data": {
            "text/plain": [
              "\u001b[1m Optimizer params: \u001b[0m\u001b[38;5;34m125,782\u001b[0m (491.34 KB)\n"
            ],
            "text/html": [
              "<pre style=\"white-space:pre;overflow-x:auto;line-height:normal;font-family:Menlo,'DejaVu Sans Mono',consolas,'Courier New',monospace\"><span style=\"font-weight: bold\"> Optimizer params: </span><span style=\"color: #00af00; text-decoration-color: #00af00\">125,782</span> (491.34 KB)\n",
              "</pre>\n"
            ]
          },
          "metadata": {}
        }
      ],
      "source": [
        "from tensorflow.keras.models import load_model\n",
        "\n",
        "# Load the saved model\n",
        "model = load_model('/content/drive/MyDrive/UrbanSound8K/audio_classification_model.keras')\n",
        "\n",
        "# Verify the model structure\n",
        "model.summary()"
      ]
    },
    {
      "cell_type": "code",
      "source": [
        "print[features]"
      ],
      "metadata": {
        "id": "Rq-46z6CFh0x"
      },
      "execution_count": null,
      "outputs": []
    },
    {
      "cell_type": "code",
      "execution_count": null,
      "metadata": {
        "id": "n47cSGoVJhs9"
      },
      "outputs": [],
      "source": [
        "print(labels[:50])\n"
      ]
    },
    {
      "source": [
        "import matplotlib.pyplot as plt\n",
        "\n",
        "# Plot training & validation accuracy values\n",
        "plt.plot(history.history['accuracy'], label='Training Accuracy')\n",
        "plt.plot(history.history['val_accuracy'], label='Validation Accuracy')\n",
        "\n",
        "plt.title('Model Accuracy')\n",
        "plt.xlabel('Epochs')\n",
        "plt.ylabel('Accuracy')\n",
        "plt.legend()\n",
        "plt.show()"
      ],
      "cell_type": "code",
      "metadata": {
        "colab": {
          "base_uri": "https://localhost:8080/",
          "height": 472
        },
        "id": "yHHVP3g9sD8J",
        "outputId": "45a38794-ecc7-4f50-edee-1b758e6784a9"
      },
      "execution_count": null,
      "outputs": [
        {
          "output_type": "display_data",
          "data": {
            "text/plain": [
              "<Figure size 640x480 with 1 Axes>"
            ],
            "image/png": "[encoded data removed]"
          },
          "metadata": {}
        }
      ]
    },
    {
      "cell_type": "code",
      "source": [],
      "metadata": {
        "id": "d83a4BV7HoQ4"
      },
      "execution_count": null,
      "outputs": []
    },
    {
      "cell_type": "code",
      "source": [],
      "metadata": {
        "id": "ODlzzSnwNTXZ"
      },
      "execution_count": null,
      "outputs": []
    }
  ],
  "metadata": {
    "colab": {
      "provenance": [],
      "include_colab_link": true
    },
    "kernelspec": {
      "display_name": "Python 3",
      "name": "python3"
    },
    "language_info": {
      "name": "python"
    }
  },
  "nbformat": 4,
  "nbformat_minor": 0
}